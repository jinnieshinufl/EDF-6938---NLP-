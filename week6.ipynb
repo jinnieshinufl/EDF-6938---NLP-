{
  "cells": [
    {
      "cell_type": "markdown",
      "id": "530144c4",
      "metadata": {
        "id": "530144c4"
      },
      "source": [
        "---\n",
        "<h1><center>  lab 6 : Text Feature Engineering </center>\n",
        "    \n",
        "<img src=\"data:image/png;base64,iVBORw0KGgoAAAANSUhEUgAAAS8AAACmCAMAAAC8yPlOAAABI1BMVEX///+p770AAADx8PF+fH6w+MV7uoys88EANwz5+flsqXzd3d38/Pz29vbr6+tpaWnT09NbWFqHypuFhYUmUTBGd1Ke47IAIABdlGuU16cwYTy8vLxxcXGysrKdnZ3ExMRQUFCmpqZjY2M9PT02NjaNjY3BwcEnJyciIiJLS0vNzc2Xl5cbGxva2tqtra1EREQRERHZLTAIPBfTAADUDhT87u7WIiYALAMUQiBOg1wZExgcPiQzXD0eGR0AJQBbkmn/3t7/s7T/mJr/jY//vb//YGL/UFT/PEP5KTP3pKfzxMXqPkTlhYb20tLdWFrdPUTNKjHga2y6LjTUmZulKi/Wr7CfOTzAi4u0bG3JcnLkfH2kR0nrqqvEHiYAFgDwYWOzWVu5vM7yAAAMpUlEQVR4nO2dCZubxhmAyQc5CDCgkLMMN4hTwDa7m6ZHYuewGzuOHddNmzRJ+/9/RWcAaXVwbpwnWTTv83h3hdBavDvz8c03A+I4BoPBYDAYDMbLBEkdbOTf+m39bsHQBf9bv63fLcJHH7x1zPvMVy/CG6++csTrrzFfvTBf82C+5sF8zYP5mgVK/sh8TScD+BPzNRUjBrxi7WsiUgKRzeLXRHgdwBJZvJ+IWQFG9AfmawJaCUna/Mh8jYIEyN3tA+ZrBNEC0JXdQ+ZrGKMEZ7P3mPkaQvIgWh9sYb76EUOSQyiH25ivXkwADx1vZL562PgQaaebia/Xj2G+OAUDFF1PCGy+owOaQ3TPkQnvvXnCx2fuy44Oc4h9Ovrjq+fdH5ED1br3WRbvD1F0gGxgupr5OsDM2zpEH8zXHloCZUcOsQ/ztaOuQ4ytHGG+WmSSQwjjx818Ndh+fw6xD/NFQR7kxqQ9mS+SQ2Qkh5hyyHIq/JnNP66rjjpEBygLAM7el1TSacVRRMMDCExRP+/+qAgA1vhuEsn6IZS4c49fLgAWx3aS3Qhg1Q4pz9lXOlCH2GGrAPlNVfp8faEVwFgOIZEzJwj7Q6Rz9SWHJCAN76IYPoBjHm48U1/GaA6hkTNBnLH5DormQJAO7YBoiMdpx6mA+Dph4b4QXZo0UIcQ1yTVSqxuBwK8fcJfluxLJjmEMNAVN3oEsdB7RZAAH79zzF8X7IvWIfpLgrzpkFTLGDj85fdHvr6kDCEajJAKsdm3o6jhCoJMGvxti473iuTiVd7OqZZqFlYn6yF2oIxkD6o2lu0v15e80QOSEpTYNdPUcAWHPIKg6BSi0CzeLyZUKRbra12Sk5yp7cftTapWJKc6aWGSHkMljEx0tCzUF0nNc6ujuYgk3tfrnHfIBQnx5bTiKrdQX8iBqNfAJoFq96RNsviqS2wfS/TljtS07Ag82k8V63g0Pc4CfamQjL3/DCJp7dCC6ZxfrKwt1Vna9TCiD/r4XjbNMEZSrQPSor7SPf/bwur3KB8tatVIEUxtWxsjjKgrNVvLS+uPfAyDhYe9PX0Yn+ZAtuVTVU5o8k1msjBfDkwO32IEQ+dFlBZeTDNcwZL2MrZl+RK6F512gyDvHv0o2loIKoBIDVN+yevJzSmh/oYU1ONNspSGDo1WnmCgrqHmknxJ4My7kU0G7t4jpLleSQfm2JV6e+qSfHkwI0GoCdoj5SUDOzRYrTJNGnS+IF/plJnqQzYgiEjTaWDPS5xu+oo9NyzIlx+NH+4xKtRVHrXQJh6y8MYr7x7z5p30ZR8Eo4lIEFv2nF68nOs7gls0L9rA5h2r8Mlbrx3z6V30temLXvfuf/b5Z1/0BXFpbJb7iMVc3+F1v+l7n3/55YMHDx4+vN/zOt+f1SwXE+/B69p6/4Ly+PGDh3//qvt1xrwkZCG+7Koz2j/68Pry8vK6Vvb4XucrZ3bIRfhCNC3v6laPPvz6ydXVo2+IsafPHnW/OFjN+a8W4IteIlWocZevJ62jb68vnj7/R/fL8WCZ4pg770s2K1BFDvDQTk+uL56/+Gf3c+tZAWy6L95OGyQO78b1oXdUEsmON/zKaA44G2QGw1Ho6tnF8++uen7DhLrhDdN9pVBVQP+FnJNsNybHu65mte4D0PxWjTAElo0r8Iery6R9vfhXz3MSZDP+x+m+ZJ5XVF8hX7nVzhd/bOdkw2SUaYX3/Xdk5eDgBCK/EIbL0N9e//Tvvr+GEpxUwQaYF7+wX3+78fUSEaH/KuBObB+qOAfII1o3HgpCX19ff9/feMvuE6SskLaBKPU9orXUMArLKmfNp219OXLmYfoXzQSRrj/w1G32U2/YCB7eNhbFxB7eFdXFQvXq1Wqa4NUzpRbmrPpXuR4kKi2PmqpKl42KaoEET6+bq+I2r5JdVd0usEHedrAbOYKWdaYTe7oGnk4cpGm2YbpuFuqCgLGqqt7KSfwgjk+H1rPm07a+fM8LIzq14JHTuAZJhst2D4+MetewCtXt+SqscOhvZyFkFYSwJPG1ILsktEFh8JwsICHXxLASMhoAsRAHiDQ3NRZ0yMmBSgHgMDI5sQRBqBJ66HxYv/m8xIZGH5vQf5r54fri+6GTkLOvI8+jKAgC3y+TlYexEGauazRnOk3bSAjfqj/SZFqhp3CV6Gk3NqgBCW/O3oa6n4DQPED1uUgmMZaGZxxRX8SRHHnb/ujS8wUf6+Qh7WIpFJzsBLSVIU6PeRqeXTqIIfjWWpIR0lLbNAaSqK8uL14MZgxJmdrEiLYhOhCvDJe0bxe/6m+e3/gSqr23Q315J5WVpA2pqD0XhYEoy3Xmg6F+F77I8XW8J2df8gxprmIzGZHr3GYby4kp8py3qnVVeXXQT/p8XV1ePP/P0JBaDDpHnj3czpdTPygbXygAdXd2or4kAGGnULG8CHYTMRlEdGmy2h7kpvWl3/hqFwMSX/VcTx6Svta4QO1zDqc3P8SJYBq0s2ia25tE/Xj97LsXPalXDR8PprpH/ILz49ZXfVOxrRDqi4SneFuNUvLKXUvl7pRNF3Mjzku0GvG0fekb+sSm05dVPyfV92vZ4qtWYSO+t3ZPfL346cmAAWlW2f+l+KJhp43ojS9at23igFEf7H6KQ+OeXm2jxImvNtLt+Uq3v3s/sTRpl6S+gqDx1pff/3h5/eybofalTV1B0BzXL/dFw3S650ukG4rWV0H6HGdvR3cSvRyMtH+tliFrh77oIYd1x0Joz5cY1H8DRHox7eXbuUGTTn+Rjh1hyzaK7vIX4errH3oqXy3u3PHjCW/1+wrqb06dPah+k08k4Hm7t0tivVIBXm3bAnmgJn7ZPr2GEkdQd6hcXdG2pDa+ApH+qHrkZAg+pvmH2LQ0ak2qwFHJiVIJIMEB7C7BMyIICpOuM/JSdSgBG8QL5ozDBPjkvWN+7vVlNl3drb8V5GuRiZxk6eEu2tINm0wPdxkqb+kWZ7XLGmQz1JsLTbSseZFZ9yODngQUS6c90gh1ujBLrh9wIf0qFrpukj1E+vL9E6ERQGDKRr00q3ehifL5gy8GDMwaDnHCz++f8M4dquesy/oKBFPvDWD3/vvw4dP+AKbNG7be/fmOtQM5MRYk3YnmveuLx88GEjB9XkHlztcLCakDUWH1dMgfLy+u/zcQ0aN5a1SW4Ks2Vu0ykUOunl7+MHA4BmTNpUUTWYav2lhPXnB1b6gBJTSPKz2BjEUn1SuX4ovmY3PGNS02hJqLnbIu3EQrrBcaOl5SeMByfLXp7DyCNq3mpdTOVD9oh1hCZiCe72qXC/IlnS6vHMM4LvsjLTV1J2pKH4kQWjavHES3BfkiY6mZMwAKBN1PyFK6trDfaMudMCtScXnrycVg5uRUeTO26obf2Ea4aqvSgRe66aLuNySBPyeZCievsOM1w9ST+fX73ztGb5mic+fZ8c52F3a9lTV9Bb4G/vhOJywpflGEqVmYAfFtjnJpvsj4eTVleGNBcKuZ+MX5IiaiURMirZjFnTfIGWF5vui1oCNXXaU+hIq1IqkVTmeWZRfoi9s4kAxc1odwe7NVRJWRVjarHr1AXxzn5uD1GEPh/n2PkSZERJk7eeS5TF8cn1XguCdxDGkqAD6Uo1Bl4JzeGq0T4aN3Pzjmbl4PcwRvEQueriG+CeoK2rg4JhGroyntlI2PDpZzPcwJfKrS+kyVeBirq6ZUE/YdmajhslY2Ev+Fj04+3n1Jn+8upRZOgiiKfC9baySsOQOT2ZJJlMXCeijLuPvzQ3MQ3QqSoWWMyKSjaqG/LrTQeN8LvR2fP7jwE9FWBrhH2bn5IhQ5BMOFRX5Nly92Zhln6Ks2lo/d3SSlymLrWNlZ+uI4M4bxYqFGlVXWQQ32TH0RYyTjckcHj1pYUmU3Y4Wz9VUv7ql6b/94g2jS1aPbm4yesS9iLIG85z6+B4hFowyduS+Osyca45Smldnqsur387FXEE/6cBgyvgr9hc0P3Yp0Bfk0Y5woLWx+6HZoK6gmGjvz+LWFGOuvXezDfLVsvEnGmK8dmyltjPnaQyI5gz587MzXAaPGmK8jJDz4eRXnVV+dBCLGej/0l31eeQdIAFC7jS14fuiXQC/TVLsWH7L+2AM11jFHzuJ9L9TY6nj6jfkaoMMY8zUIXZ3i7F9Kz3yNgLJ83xjzNQpPb2tkt0tRmK8J8G4Mzro2xnxNQiHGEmqM+ZqIWMT0Y50WdT3Mr4tc5JAkrH4/AzNn80Pz8Fh/nAWL9/NgvubBfM2D+ZoH8zUP5msey//87ZeLAH844W3mqxdr1YFz23vbMRgMBoPBYJzyf3wVMoa8nbaIAAAAAElFTkSuQmCC\" width=\"350\">\n"
      ]
    },
    {
      "cell_type": "markdown",
      "id": "c3c7066e",
      "metadata": {
        "id": "c3c7066e"
      },
      "source": [
        "> `Created by: Jinnie Shin (jinnie.shin@ualberta.ca)`\\\n",
        "> `Date: `\n",
        "---\n",
        "<img src=\"https://encrypted-tbn0.gstatic.com/images?q=tbn:ANd9GcQmNf86oJnfhpkPA9LnrFnAbfwF2VywPYpB_w&usqp=CAU\" align=\"left\" width=\"70\" height=\"70\" align=\"left\"> \n",
        "\n",
        " ### Required Packages or Dependencies"
      ]
    },
    {
      "cell_type": "code",
      "execution_count": 2,
      "id": "02eac3c7",
      "metadata": {
        "colab": {
          "base_uri": "https://localhost:8080/"
        },
        "id": "02eac3c7",
        "outputId": "5f85d2b3-b313-45f4-db72-17e89d79fafe"
      },
      "outputs": [
        {
          "output_type": "stream",
          "name": "stdout",
          "text": [
            "Looking in indexes: https://pypi.org/simple, https://us-python.pkg.dev/colab-wheels/public/simple/\n",
            "Collecting syllables\n",
            "  Downloading syllables-1.0.3-py2.py3-none-any.whl (15 kB)\n",
            "Installing collected packages: syllables\n",
            "Successfully installed syllables-1.0.3\n"
          ]
        }
      ],
      "source": [
        "!pip install syllables #run this if you run into an error (download syllables)\n",
        "import syllables \n",
        "import numpy as np\n",
        "import pandas as pd"
      ]
    },
    {
      "cell_type": "markdown",
      "id": "98aabe31",
      "metadata": {
        "id": "98aabe31"
      },
      "source": [
        "\n",
        "## **REVIEW**: Dataset\n",
        "\n",
        "> Using the text_normalizer function we created last time, we will import `essay set 5`"
      ]
    },
    {
      "cell_type": "markdown",
      "id": "3d75c156",
      "metadata": {
        "id": "3d75c156"
      },
      "source": [
        "#### Essay Set 8\n",
        "`Prompt`: We all understand the benefits of laughter. For example, someone once said, \"Laughter is the shortest distance between two people.\" Many other people believe that laughter is an important part of any relationship. Tell a true story in which laughter was one element or part. \n",
        "\n",
        "\n",
        "| Type of response            | Persuasive/Narrative/Expository |\n",
        "|-----------------------------|---------------------------|\n",
        "| Grade level                 | `10`                       |\n",
        "| Total sample size           | `918`                |\n",
        "| Average length of responses | `650 words`                  |\n",
        "| Score range                 | `0-30`                       |"
      ]
    },
    {
      "cell_type": "code",
      "execution_count": 3,
      "id": "8288c594",
      "metadata": {
        "colab": {
          "base_uri": "https://localhost:8080/",
          "height": 358
        },
        "id": "8288c594",
        "outputId": "258a00d5-9b9c-4fb8-d7d3-945a852645bf"
      },
      "outputs": [
        {
          "output_type": "error",
          "ename": "FileNotFoundError",
          "evalue": "ignored",
          "traceback": [
            "\u001b[0;31m---------------------------------------------------------------------------\u001b[0m",
            "\u001b[0;31mFileNotFoundError\u001b[0m                         Traceback (most recent call last)",
            "\u001b[0;32m<ipython-input-3-cb2a9e954b67>\u001b[0m in \u001b[0;36m<module>\u001b[0;34m\u001b[0m\n\u001b[0;32m----> 1\u001b[0;31m \u001b[0mdata\u001b[0m \u001b[0;34m=\u001b[0m \u001b[0mpd\u001b[0m\u001b[0;34m.\u001b[0m\u001b[0mread_excel\u001b[0m\u001b[0;34m(\u001b[0m\u001b[0;34m'./data/training_set_rel3.xlsx'\u001b[0m\u001b[0;34m)\u001b[0m\u001b[0;34m\u001b[0m\u001b[0;34m\u001b[0m\u001b[0m\n\u001b[0m\u001b[1;32m      2\u001b[0m \u001b[0mdata\u001b[0m \u001b[0;34m=\u001b[0m \u001b[0mdata\u001b[0m\u001b[0;34m[\u001b[0m\u001b[0mdata\u001b[0m\u001b[0;34m.\u001b[0m\u001b[0messay_set\u001b[0m\u001b[0;34m==\u001b[0m\u001b[0;36m8\u001b[0m\u001b[0;34m]\u001b[0m\u001b[0;34m\u001b[0m\u001b[0;34m\u001b[0m\u001b[0m\n\u001b[1;32m      3\u001b[0m \u001b[0mprint\u001b[0m\u001b[0;34m(\u001b[0m\u001b[0mdata\u001b[0m\u001b[0;34m.\u001b[0m\u001b[0miloc\u001b[0m\u001b[0;34m[\u001b[0m\u001b[0;36m1\u001b[0m\u001b[0;34m]\u001b[0m\u001b[0;34m.\u001b[0m\u001b[0messay\u001b[0m\u001b[0;34m)\u001b[0m\u001b[0;34m\u001b[0m\u001b[0;34m\u001b[0m\u001b[0m\n",
            "\u001b[0;32m/usr/local/lib/python3.7/dist-packages/pandas/util/_decorators.py\u001b[0m in \u001b[0;36mwrapper\u001b[0;34m(*args, **kwargs)\u001b[0m\n\u001b[1;32m    309\u001b[0m                     \u001b[0mstacklevel\u001b[0m\u001b[0;34m=\u001b[0m\u001b[0mstacklevel\u001b[0m\u001b[0;34m,\u001b[0m\u001b[0;34m\u001b[0m\u001b[0;34m\u001b[0m\u001b[0m\n\u001b[1;32m    310\u001b[0m                 )\n\u001b[0;32m--> 311\u001b[0;31m             \u001b[0;32mreturn\u001b[0m \u001b[0mfunc\u001b[0m\u001b[0;34m(\u001b[0m\u001b[0;34m*\u001b[0m\u001b[0margs\u001b[0m\u001b[0;34m,\u001b[0m \u001b[0;34m**\u001b[0m\u001b[0mkwargs\u001b[0m\u001b[0;34m)\u001b[0m\u001b[0;34m\u001b[0m\u001b[0;34m\u001b[0m\u001b[0m\n\u001b[0m\u001b[1;32m    312\u001b[0m \u001b[0;34m\u001b[0m\u001b[0m\n\u001b[1;32m    313\u001b[0m         \u001b[0;32mreturn\u001b[0m \u001b[0mwrapper\u001b[0m\u001b[0;34m\u001b[0m\u001b[0;34m\u001b[0m\u001b[0m\n",
            "\u001b[0;32m/usr/local/lib/python3.7/dist-packages/pandas/io/excel/_base.py\u001b[0m in \u001b[0;36mread_excel\u001b[0;34m(io, sheet_name, header, names, index_col, usecols, squeeze, dtype, engine, converters, true_values, false_values, skiprows, nrows, na_values, keep_default_na, na_filter, verbose, parse_dates, date_parser, thousands, comment, skipfooter, convert_float, mangle_dupe_cols, storage_options)\u001b[0m\n\u001b[1;32m    362\u001b[0m     \u001b[0;32mif\u001b[0m \u001b[0;32mnot\u001b[0m \u001b[0misinstance\u001b[0m\u001b[0;34m(\u001b[0m\u001b[0mio\u001b[0m\u001b[0;34m,\u001b[0m \u001b[0mExcelFile\u001b[0m\u001b[0;34m)\u001b[0m\u001b[0;34m:\u001b[0m\u001b[0;34m\u001b[0m\u001b[0;34m\u001b[0m\u001b[0m\n\u001b[1;32m    363\u001b[0m         \u001b[0mshould_close\u001b[0m \u001b[0;34m=\u001b[0m \u001b[0;32mTrue\u001b[0m\u001b[0;34m\u001b[0m\u001b[0;34m\u001b[0m\u001b[0m\n\u001b[0;32m--> 364\u001b[0;31m         \u001b[0mio\u001b[0m \u001b[0;34m=\u001b[0m \u001b[0mExcelFile\u001b[0m\u001b[0;34m(\u001b[0m\u001b[0mio\u001b[0m\u001b[0;34m,\u001b[0m \u001b[0mstorage_options\u001b[0m\u001b[0;34m=\u001b[0m\u001b[0mstorage_options\u001b[0m\u001b[0;34m,\u001b[0m \u001b[0mengine\u001b[0m\u001b[0;34m=\u001b[0m\u001b[0mengine\u001b[0m\u001b[0;34m)\u001b[0m\u001b[0;34m\u001b[0m\u001b[0;34m\u001b[0m\u001b[0m\n\u001b[0m\u001b[1;32m    365\u001b[0m     \u001b[0;32melif\u001b[0m \u001b[0mengine\u001b[0m \u001b[0;32mand\u001b[0m \u001b[0mengine\u001b[0m \u001b[0;34m!=\u001b[0m \u001b[0mio\u001b[0m\u001b[0;34m.\u001b[0m\u001b[0mengine\u001b[0m\u001b[0;34m:\u001b[0m\u001b[0;34m\u001b[0m\u001b[0;34m\u001b[0m\u001b[0m\n\u001b[1;32m    366\u001b[0m         raise ValueError(\n",
            "\u001b[0;32m/usr/local/lib/python3.7/dist-packages/pandas/io/excel/_base.py\u001b[0m in \u001b[0;36m__init__\u001b[0;34m(self, path_or_buffer, engine, storage_options)\u001b[0m\n\u001b[1;32m   1190\u001b[0m             \u001b[0;32melse\u001b[0m\u001b[0;34m:\u001b[0m\u001b[0;34m\u001b[0m\u001b[0;34m\u001b[0m\u001b[0m\n\u001b[1;32m   1191\u001b[0m                 ext = inspect_excel_format(\n\u001b[0;32m-> 1192\u001b[0;31m                     \u001b[0mcontent_or_path\u001b[0m\u001b[0;34m=\u001b[0m\u001b[0mpath_or_buffer\u001b[0m\u001b[0;34m,\u001b[0m \u001b[0mstorage_options\u001b[0m\u001b[0;34m=\u001b[0m\u001b[0mstorage_options\u001b[0m\u001b[0;34m\u001b[0m\u001b[0;34m\u001b[0m\u001b[0m\n\u001b[0m\u001b[1;32m   1193\u001b[0m                 )\n\u001b[1;32m   1194\u001b[0m                 \u001b[0;32mif\u001b[0m \u001b[0mext\u001b[0m \u001b[0;32mis\u001b[0m \u001b[0;32mNone\u001b[0m\u001b[0;34m:\u001b[0m\u001b[0;34m\u001b[0m\u001b[0;34m\u001b[0m\u001b[0m\n",
            "\u001b[0;32m/usr/local/lib/python3.7/dist-packages/pandas/io/excel/_base.py\u001b[0m in \u001b[0;36minspect_excel_format\u001b[0;34m(content_or_path, storage_options)\u001b[0m\n\u001b[1;32m   1069\u001b[0m \u001b[0;34m\u001b[0m\u001b[0m\n\u001b[1;32m   1070\u001b[0m     with get_handle(\n\u001b[0;32m-> 1071\u001b[0;31m         \u001b[0mcontent_or_path\u001b[0m\u001b[0;34m,\u001b[0m \u001b[0;34m\"rb\"\u001b[0m\u001b[0;34m,\u001b[0m \u001b[0mstorage_options\u001b[0m\u001b[0;34m=\u001b[0m\u001b[0mstorage_options\u001b[0m\u001b[0;34m,\u001b[0m \u001b[0mis_text\u001b[0m\u001b[0;34m=\u001b[0m\u001b[0;32mFalse\u001b[0m\u001b[0;34m\u001b[0m\u001b[0;34m\u001b[0m\u001b[0m\n\u001b[0m\u001b[1;32m   1072\u001b[0m     ) as handle:\n\u001b[1;32m   1073\u001b[0m         \u001b[0mstream\u001b[0m \u001b[0;34m=\u001b[0m \u001b[0mhandle\u001b[0m\u001b[0;34m.\u001b[0m\u001b[0mhandle\u001b[0m\u001b[0;34m\u001b[0m\u001b[0;34m\u001b[0m\u001b[0m\n",
            "\u001b[0;32m/usr/local/lib/python3.7/dist-packages/pandas/io/common.py\u001b[0m in \u001b[0;36mget_handle\u001b[0;34m(path_or_buf, mode, encoding, compression, memory_map, is_text, errors, storage_options)\u001b[0m\n\u001b[1;32m    709\u001b[0m         \u001b[0;32melse\u001b[0m\u001b[0;34m:\u001b[0m\u001b[0;34m\u001b[0m\u001b[0;34m\u001b[0m\u001b[0m\n\u001b[1;32m    710\u001b[0m             \u001b[0;31m# Binary mode\u001b[0m\u001b[0;34m\u001b[0m\u001b[0;34m\u001b[0m\u001b[0;34m\u001b[0m\u001b[0m\n\u001b[0;32m--> 711\u001b[0;31m             \u001b[0mhandle\u001b[0m \u001b[0;34m=\u001b[0m \u001b[0mopen\u001b[0m\u001b[0;34m(\u001b[0m\u001b[0mhandle\u001b[0m\u001b[0;34m,\u001b[0m \u001b[0mioargs\u001b[0m\u001b[0;34m.\u001b[0m\u001b[0mmode\u001b[0m\u001b[0;34m)\u001b[0m\u001b[0;34m\u001b[0m\u001b[0;34m\u001b[0m\u001b[0m\n\u001b[0m\u001b[1;32m    712\u001b[0m         \u001b[0mhandles\u001b[0m\u001b[0;34m.\u001b[0m\u001b[0mappend\u001b[0m\u001b[0;34m(\u001b[0m\u001b[0mhandle\u001b[0m\u001b[0;34m)\u001b[0m\u001b[0;34m\u001b[0m\u001b[0;34m\u001b[0m\u001b[0m\n\u001b[1;32m    713\u001b[0m \u001b[0;34m\u001b[0m\u001b[0m\n",
            "\u001b[0;31mFileNotFoundError\u001b[0m: [Errno 2] No such file or directory: './data/training_set_rel3.xlsx'"
          ]
        }
      ],
      "source": [
        "data = pd.read_excel('./data/training_set_rel3.xlsx')\n",
        "data = data[data.essay_set==8]\n",
        "print(data.iloc[1].essay)"
      ]
    },
    {
      "cell_type": "markdown",
      "id": "66fb145d",
      "metadata": {
        "id": "66fb145d"
      },
      "source": [
        "\n",
        "## 1. Extracting Descriptive Indices\n"
      ]
    },
    {
      "cell_type": "code",
      "execution_count": 5,
      "id": "70d8f0e0",
      "metadata": {
        "id": "70d8f0e0"
      },
      "outputs": [],
      "source": [
        "def descriptives(text):\n",
        "      ## the total number of sentences \n",
        "        \n",
        "    import nbimporter\n",
        "    from week3 import text_normalize\n",
        "    normalizer = text_normalize()\n",
        "    \n",
        "    sentences = normalizer.sent_tokenize(text)\n",
        "    n_sentences = len(sentences)\n",
        "  \n",
        "      ## the total number of words (tokens)\n",
        "    words = normalizer.tokenize(text)\n",
        "    n_words = len(words)\n",
        "  \n",
        "      ## the total number of unique vocabulary \n",
        "    unique_words = set(words)\n",
        "    n_unique_words = len(unique_words)\n",
        "  \n",
        "      ## the total number of stop words \n",
        "    import nltk \n",
        "    stop_words = list(set(nltk.corpus.stopwords.words('english')))\n",
        "    n_stopwords = len([i for i in words if i in stop_words])\n",
        "  \n",
        "      ## the total number of punctuation marks \n",
        "    n_punc = len([i for i in words if i in \"\"\"!\"#$%&'()*+,-./:;<=>?@[\\]^_`{|}~\"\"\"])\n",
        "  \n",
        "      ## total number of syllables \n",
        "    n_syllables = np.sum([syllables.estimate(i) for i in words])\n",
        "    \n",
        "    ############################ MINI TASK ###################################\n",
        "\n",
        "    #1. Total number of unique lemmas\n",
        "\n",
        "    \n",
        "    #2. Total number of unique stems\n",
        "    \n",
        "\n",
        "    \n",
        "    ##########################################################################\n",
        "    \n",
        "    return n_sentences, n_words, n_unique_words, n_stopwords, n_punc, n_syllables #, n_lemmas, n_stems"
      ]
    },
    {
      "cell_type": "markdown",
      "id": "430d1c2f",
      "metadata": {
        "id": "430d1c2f"
      },
      "source": [
        "> *Let's explore!*"
      ]
    },
    {
      "cell_type": "code",
      "execution_count": 6,
      "id": "96d9a80b",
      "metadata": {
        "colab": {
          "base_uri": "https://localhost:8080/",
          "height": 198
        },
        "id": "96d9a80b",
        "outputId": "9a73650a-3864-4953-b4ec-1aac9bdd296c"
      },
      "outputs": [
        {
          "output_type": "error",
          "ename": "NameError",
          "evalue": "ignored",
          "traceback": [
            "\u001b[0;31m---------------------------------------------------------------------------\u001b[0m",
            "\u001b[0;31mNameError\u001b[0m                                 Traceback (most recent call last)",
            "\u001b[0;32m<ipython-input-6-f155364840f5>\u001b[0m in \u001b[0;36m<module>\u001b[0;34m\u001b[0m\n\u001b[0;32m----> 1\u001b[0;31m \u001b[0mtext\u001b[0m \u001b[0;34m=\u001b[0m \u001b[0mdata\u001b[0m\u001b[0;34m.\u001b[0m\u001b[0miloc\u001b[0m\u001b[0;34m[\u001b[0m\u001b[0;36m0\u001b[0m\u001b[0;34m]\u001b[0m\u001b[0;34m.\u001b[0m\u001b[0messay\u001b[0m\u001b[0;34m\u001b[0m\u001b[0;34m\u001b[0m\u001b[0m\n\u001b[0m\u001b[1;32m      2\u001b[0m \u001b[0;34m\u001b[0m\u001b[0m\n\u001b[1;32m      3\u001b[0m \u001b[0mdescriptives\u001b[0m\u001b[0;34m(\u001b[0m\u001b[0mtext\u001b[0m\u001b[0;34m)\u001b[0m\u001b[0;34m\u001b[0m\u001b[0;34m\u001b[0m\u001b[0m\n",
            "\u001b[0;31mNameError\u001b[0m: name 'data' is not defined"
          ]
        }
      ],
      "source": [
        "text = data.iloc[0].essay\n",
        "\n",
        "descriptives(text)"
      ]
    },
    {
      "cell_type": "markdown",
      "id": "4a131acb",
      "metadata": {
        "id": "4a131acb"
      },
      "source": [
        "<img src=\"https://i.pinimg.com/736x/2e/aa/7d/2eaa7d5021ca7c3c98bc93b98b9646fe.jpg\" align=\"left\" width=\"70\" height=\"70\" align=\"left\">\n",
        "\n",
        "> ## Task 1: Descriptive Indices\n",
        "\n",
        "> Q1. Let's apply the `descriptives` function to the entire dataframe (`data.essay`) and save them into a new column (`features`)"
      ]
    },
    {
      "cell_type": "code",
      "execution_count": null,
      "id": "79c2cbdd",
      "metadata": {
        "id": "79c2cbdd"
      },
      "outputs": [],
      "source": [
        "################# YOUR CODE HERE ############\n",
        "data['features'] = data.essay.apply(descriptives)\n",
        "data.features\n",
        "############################################"
      ]
    },
    {
      "cell_type": "markdown",
      "id": "a1ca0d4a",
      "metadata": {
        "id": "a1ca0d4a"
      },
      "source": [
        "## 2. Readability Indices"
      ]
    },
    {
      "cell_type": "code",
      "execution_count": null,
      "id": "848f8b91",
      "metadata": {
        "id": "848f8b91"
      },
      "outputs": [],
      "source": [
        "class readability(): \n",
        "  \n",
        "    def __init__(self): \n",
        "        self.n_sent, self.n_word, self.n_unique, self.n_stop, self.n_punc, self.n_syll, _, _ = descriptives(text)\n",
        "\n",
        "    def fr_score(self, text):\n",
        "        score = 206.835-1.015*(self.n_word/self.n_sent) - 84.6*(self.n_syll/self.n_word)\n",
        "        return score \n",
        " \n",
        "    def gf_score(self, text):\n",
        "        score = 0.4*((self.n_word/self.n_sent)+ 100*(self.n_word))\n",
        "        return score \n",
        "  \n",
        "    def smog(self, text):\n",
        "        if self.n_sent < 30:\n",
        "            score = 1.0430*np.sqrt(self.n_syll*(30/self.n_sent))+3.1291\n",
        "            return score\n",
        "        else:\n",
        "            return print('total number of sentences are less than 30')"
      ]
    },
    {
      "cell_type": "code",
      "execution_count": null,
      "id": "d1e9f770",
      "metadata": {
        "id": "d1e9f770",
        "outputId": "c2be4601-a0b9-4f8b-94d0-a8b230edc710"
      },
      "outputs": [
        {
          "name": "stdout",
          "output_type": "stream",
          "text": [
            "86.72442806694306\n",
            "33408.5641025641\n",
            "total number of sentences are less than 30\n",
            "None\n"
          ]
        }
      ],
      "source": [
        "analyzer = readability()\n",
        "print(analyzer.fr_score(text))\n",
        "print(analyzer.gf_score(text))\n",
        "print(analyzer.smog(text))"
      ]
    },
    {
      "cell_type": "markdown",
      "id": "776af2b1",
      "metadata": {
        "id": "776af2b1"
      },
      "source": [
        "## 4. Computational Linguistic Features (Coh-Metrix)\n",
        "> More information about Coh-metrix is available at: "
      ]
    },
    {
      "cell_type": "code",
      "execution_count": null,
      "id": "bd8fc663",
      "metadata": {
        "id": "bd8fc663",
        "outputId": "236fde24-9516-46f9-84e3-3a774dcbc54b"
      },
      "outputs": [
        {
          "data": {
            "text/html": [
              "<div>\n",
              "<style scoped>\n",
              "    .dataframe tbody tr th:only-of-type {\n",
              "        vertical-align: middle;\n",
              "    }\n",
              "\n",
              "    .dataframe tbody tr th {\n",
              "        vertical-align: top;\n",
              "    }\n",
              "\n",
              "    .dataframe thead th {\n",
              "        text-align: right;\n",
              "    }\n",
              "</style>\n",
              "<table border=\"1\" class=\"dataframe\">\n",
              "  <thead>\n",
              "    <tr style=\"text-align: right;\">\n",
              "      <th></th>\n",
              "      <th>TextID</th>\n",
              "      <th>domain1_score</th>\n",
              "      <th>domain2_score</th>\n",
              "      <th>essay_id</th>\n",
              "      <th>essay_set</th>\n",
              "      <th>DESPC</th>\n",
              "      <th>DESSC</th>\n",
              "      <th>DESWC</th>\n",
              "      <th>DESPL</th>\n",
              "      <th>DESPLd</th>\n",
              "      <th>...</th>\n",
              "      <th>WRDCNCc</th>\n",
              "      <th>WRDIMGc</th>\n",
              "      <th>WRDMEAc</th>\n",
              "      <th>WRDPOLc</th>\n",
              "      <th>WRDHYPn</th>\n",
              "      <th>WRDHYPv</th>\n",
              "      <th>WRDHYPnv</th>\n",
              "      <th>RDFRE</th>\n",
              "      <th>RDFKGL</th>\n",
              "      <th>RDL2</th>\n",
              "    </tr>\n",
              "  </thead>\n",
              "  <tbody>\n",
              "    <tr>\n",
              "      <th>12255</th>\n",
              "      <td>C:\\Users\\minerva\\Dropbox (LAC)\\Coh-Metrix Cons...</td>\n",
              "      <td>34.0</td>\n",
              "      <td>NaN</td>\n",
              "      <td>20716</td>\n",
              "      <td>8</td>\n",
              "      <td>1</td>\n",
              "      <td>38</td>\n",
              "      <td>707</td>\n",
              "      <td>38</td>\n",
              "      <td>0</td>\n",
              "      <td>...</td>\n",
              "      <td>377.657013</td>\n",
              "      <td>423.114990</td>\n",
              "      <td>442.428986</td>\n",
              "      <td>4.543</td>\n",
              "      <td>5.187</td>\n",
              "      <td>1.755</td>\n",
              "      <td>1.299</td>\n",
              "      <td>87.954002</td>\n",
              "      <td>5.614</td>\n",
              "      <td>29.268999</td>\n",
              "    </tr>\n",
              "    <tr>\n",
              "      <th>12256</th>\n",
              "      <td>C:\\Users\\minerva\\Dropbox (LAC)\\Coh-Metrix Cons...</td>\n",
              "      <td>46.0</td>\n",
              "      <td>NaN</td>\n",
              "      <td>20717</td>\n",
              "      <td>8</td>\n",
              "      <td>1</td>\n",
              "      <td>30</td>\n",
              "      <td>785</td>\n",
              "      <td>30</td>\n",
              "      <td>0</td>\n",
              "      <td>...</td>\n",
              "      <td>361.216003</td>\n",
              "      <td>401.337006</td>\n",
              "      <td>425.963989</td>\n",
              "      <td>5.203</td>\n",
              "      <td>6.755</td>\n",
              "      <td>1.574</td>\n",
              "      <td>1.435</td>\n",
              "      <td>74.441002</td>\n",
              "      <td>9.377</td>\n",
              "      <td>26.313000</td>\n",
              "    </tr>\n",
              "    <tr>\n",
              "      <th>12257</th>\n",
              "      <td>C:\\Users\\minerva\\Dropbox (LAC)\\Coh-Metrix Cons...</td>\n",
              "      <td>40.0</td>\n",
              "      <td>NaN</td>\n",
              "      <td>20718</td>\n",
              "      <td>8</td>\n",
              "      <td>1</td>\n",
              "      <td>39</td>\n",
              "      <td>861</td>\n",
              "      <td>39</td>\n",
              "      <td>0</td>\n",
              "      <td>...</td>\n",
              "      <td>362.916992</td>\n",
              "      <td>402.194000</td>\n",
              "      <td>439.717011</td>\n",
              "      <td>4.861</td>\n",
              "      <td>6.612</td>\n",
              "      <td>1.485</td>\n",
              "      <td>1.452</td>\n",
              "      <td>72.500999</td>\n",
              "      <td>8.631</td>\n",
              "      <td>25.375999</td>\n",
              "    </tr>\n",
              "    <tr>\n",
              "      <th>12258</th>\n",
              "      <td>C:\\Users\\minerva\\Dropbox (LAC)\\Coh-Metrix Cons...</td>\n",
              "      <td>30.0</td>\n",
              "      <td>NaN</td>\n",
              "      <td>20719</td>\n",
              "      <td>8</td>\n",
              "      <td>1</td>\n",
              "      <td>27</td>\n",
              "      <td>708</td>\n",
              "      <td>27</td>\n",
              "      <td>0</td>\n",
              "      <td>...</td>\n",
              "      <td>362.027008</td>\n",
              "      <td>399.296997</td>\n",
              "      <td>417.182007</td>\n",
              "      <td>4.867</td>\n",
              "      <td>6.189</td>\n",
              "      <td>1.668</td>\n",
              "      <td>1.439</td>\n",
              "      <td>78.023003</td>\n",
              "      <td>8.891</td>\n",
              "      <td>24.730000</td>\n",
              "    </tr>\n",
              "  </tbody>\n",
              "</table>\n",
              "<p>4 rows × 113 columns</p>\n",
              "</div>"
            ],
            "text/plain": [
              "                                                  TextID  domain1_score  \\\n",
              "12255  C:\\Users\\minerva\\Dropbox (LAC)\\Coh-Metrix Cons...           34.0   \n",
              "12256  C:\\Users\\minerva\\Dropbox (LAC)\\Coh-Metrix Cons...           46.0   \n",
              "12257  C:\\Users\\minerva\\Dropbox (LAC)\\Coh-Metrix Cons...           40.0   \n",
              "12258  C:\\Users\\minerva\\Dropbox (LAC)\\Coh-Metrix Cons...           30.0   \n",
              "\n",
              "       domain2_score  essay_id  essay_set  DESPC  DESSC  DESWC  DESPL  DESPLd  \\\n",
              "12255            NaN     20716          8      1     38    707     38       0   \n",
              "12256            NaN     20717          8      1     30    785     30       0   \n",
              "12257            NaN     20718          8      1     39    861     39       0   \n",
              "12258            NaN     20719          8      1     27    708     27       0   \n",
              "\n",
              "       ...     WRDCNCc     WRDIMGc     WRDMEAc  WRDPOLc  WRDHYPn  WRDHYPv  \\\n",
              "12255  ...  377.657013  423.114990  442.428986    4.543    5.187    1.755   \n",
              "12256  ...  361.216003  401.337006  425.963989    5.203    6.755    1.574   \n",
              "12257  ...  362.916992  402.194000  439.717011    4.861    6.612    1.485   \n",
              "12258  ...  362.027008  399.296997  417.182007    4.867    6.189    1.668   \n",
              "\n",
              "       WRDHYPnv      RDFRE  RDFKGL       RDL2  \n",
              "12255     1.299  87.954002   5.614  29.268999  \n",
              "12256     1.435  74.441002   9.377  26.313000  \n",
              "12257     1.452  72.500999   8.631  25.375999  \n",
              "12258     1.439  78.023003   8.891  24.730000  \n",
              "\n",
              "[4 rows x 113 columns]"
            ]
          },
          "execution_count": 52,
          "metadata": {},
          "output_type": "execute_result"
        }
      ],
      "source": [
        "def coh_metrix():\n",
        "    features = pd.read_excel('features.xlsx')\n",
        "    features = features[features.essay_set ==8]\n",
        " \n",
        "    #descriptive indices \n",
        "    DI = features[['DESPC', 'DESSC', 'DESWC', 'DESPL', 'DESPLd', 'DESSL',\n",
        "               'DESSLd', 'DESWLsy', 'DESWLsyd', 'DESWLlt', 'DESWLltd']]\n",
        "    # various types of computational linguistic resources introduced as well :) \n",
        "    "
      ]
    }
  ],
  "metadata": {
    "kernelspec": {
      "display_name": "Python 3 (ipykernel)",
      "language": "python",
      "name": "python3"
    },
    "language_info": {
      "codemirror_mode": {
        "name": "ipython",
        "version": 3
      },
      "file_extension": ".py",
      "mimetype": "text/x-python",
      "name": "python",
      "nbconvert_exporter": "python",
      "pygments_lexer": "ipython3",
      "version": "3.9.7"
    },
    "colab": {
      "provenance": [],
      "collapsed_sections": []
    }
  },
  "nbformat": 4,
  "nbformat_minor": 5
}