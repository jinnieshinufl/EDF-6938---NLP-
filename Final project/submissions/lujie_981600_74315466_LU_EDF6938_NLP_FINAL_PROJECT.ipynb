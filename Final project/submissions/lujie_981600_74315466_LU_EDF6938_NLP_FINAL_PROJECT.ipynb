{
  "cells": [
    {
      "cell_type": "markdown",
      "metadata": {
        "id": "m3nrRKc0HIEV"
      },
      "source": [
        "#### Final Proposal EDF 6938: Natural Langauge Processing\n",
        "\n",
        "### Provide your title here \n",
        "> #### Author: Jennifer Lu\n",
        "> #### Date: Dec 3, 2022\n",
        "> #### Email: jie.lu@ufl.edu\n"
      ]
    },
    {
      "cell_type": "markdown",
      "metadata": {
        "id": "MXmw_S3MHpPW"
      },
      "source": [
        "#### 1. Introduction \n",
        "\n",
        "> Usability evaluation has garnered substantial attention in the field of Human-Computer Interaction (HCI). Consequently, methods and processes developed in this field are widely applied in the field of Learning Design and Technology (LDT) to evaluate the usability of educational and learning technologies, ignoring or overlooking fundamental differences between general information technologies and learning technologies. In particular, the latter is designed and developed with learning-specific features, such as pedagogical strategy and assessment. To this end, there exist questions and concerns regarding if applying usability instruments developed outside of the field of LDT to evaluate learning technologies. Examining usability constructs that have been the focus of existing instruments applied to learning technologies in the field of LDT becomes a good start to address and hopefully answer this question.\n",
        "\n",
        ">In the fields of Machine Learning (ML) and Natural Language Processing (NLP), clustering or document clustering, is an effective technique that aims to organize documents into clusters. A range of methods for clustering have been proposed, including K-Means Clustering, Expectation-Maximization (EM) Clustering, and Mean-Shift Clustering. In the proposed study, of particular interest is the application of K-Means Clustering to organize a corpus of usability instruments, entried at an item level, into meaningful clusters.\n",
        "\n",
        ">In this study, a K-means clustering approach is employed to examine focus of existing usability instruments that have been applied to learning technologies in the field of LDT. Methods, preliminary findings, and future directions are discussed.\n",
        "\n",
        "\n"
      ]
    },
    {
      "cell_type": "markdown",
      "metadata": {
        "id": "Fr6LyhpnH1Km"
      },
      "source": [
        "#### 2. Related Work \n",
        "\n",
        "> Within the field of LDT, usability research is currently conducted using methods and processes drawn almost exclusively from HCI. Usability constructs measured in usability studies vary by the type of methods used. perceived usability seems to be the most prevalent outcome measure. For example, Nielsen’s Usability Heuristics is a widely accepted inspection method for evaluating the perceived usability of a given user interface. Other frequently used standardized measures such as the SUS (System Usability Scale) and the CSUQ (Computer System Usability Questionnaire), although evaluating constructs like learnability and interface quality, still focus on the perceived usability of the software in general. Satisfaction is the second most frequently assessed construct in usability studies conducted on educational and learning technologies. Following this are efficiency, operability, learnability, and aesthetics, which are usability metrics defined in the International Organization Standardization (ISO). Learning-related attributes such as content and assessment seem to be far less commonly evaluated usability constructs, which has signaled tensions about using instruments developed outside of the field of LDT to evaluate educational and learning technologies. To this end, research on what constructs have been the focus of usability instruments applied to evaluate learning technologies is needed.\n",
        "\n",
        ">Document clustering has been applied in a variety of fields such as data mining and information retrieval. Methodologically speaking, clustering uses a range of rich algorithmic support which can be classified into two main types: (1) hierarchical-based and (2) partitioning-based. In specific, K-Means Clustering has been prevalent due to its low computation complexity. Although this approach has several limitations, it seems to be intuitive given the context of the study and the type of data collected for analysis. \n"
      ]
    },
    {
      "cell_type": "markdown",
      "metadata": {
        "id": "9HYXWwxRH7_E"
      },
      "source": [
        "#### 3. Methods \n",
        "\n",
        "> The current study applied the unspervised learning algorithm, K-means clustering, to identify topics in a corpus of usbaility instruments extracted at an item level. \n",
        "\n",
        "#####3.1 Research Questions\n",
        ">The purpose of the study is to explore topics of usability constructs measured by existing usability instruments that have been used in the field of LDT, regardless of in which field they were originally designed and developed. The overarching research question that guides this study is:\n",
        "\n",
        ">RQ. What constructs of usability have been measured by existing usability instruments applied to evaluate educational and learning technologies?\n",
        "\n",
        "\n",
        "######3.2 Data Collection\n",
        "\n",
        ">A systematic literature review was conducted on usability research that analyzed outcome measures reported in empirical studies within the field of LDT in the past 20 years. In this systematic review, a range of usability instruments were identified that each item in each instrument was developed to measure a specific construct of usability. In the current study, these usability instruments were extracted and segmented into individual entries in a spreadsheet, which were used as the primary source for analysis.\n",
        "\n",
        "#####3.3 K-means Clustering\n",
        "\n",
        ">The unsupervised learning algorithm, K-Means Clustering, was used to identify topics by organizing the corpus of usability items into meaningful clusters. All computations were conducted using Python. In preparation for the data analysis, the raw data source was pre-processed. The selected model does not require a training set or a testing set. However, a pre-trained model was imported. The data set does not contain any missing values or categorical features which need to be taken care of otherwise. Pre-processing activities are listed as follows:\n",
        "\n",
        ">1. Lowercasing all words.\n",
        "2. Removing punctuations, common words, and stop words. An extended list of stop word dictionary will be used which helps remove words including “frequent”, “would”, “should”, etc.\n",
        "3. Lemmatization.\n",
        "4. Tokenization.\n",
        "\n",
        ">The Word2Vec embedding technique was used to vectorize the data because it perserves the contexual meaning of words to the maximum degree. The \"Scikit-learn\" and \"Gensim\" libraries were imported and used. The elbow method and the silhouette analysis were used to determine the optimal number of k. The pre-determined range of k was set from 2 to 30. The K-Means Inertia was generated for visual analysis."
      ]
    },
    {
      "cell_type": "markdown",
      "metadata": {
        "id": "BxhsjBDDIDIH"
      },
      "source": [
        "#### 4. Analysis Demonstration "
      ]
    },
    {
      "cell_type": "markdown",
      "metadata": {
        "id": "vQAGOovRHjvx"
      },
      "source": [
        "##### 4.1. Dependencies "
      ]
    },
    {
      "cell_type": "code",
      "execution_count": null,
      "metadata": {
        "id": "CDliFS1ALkfK"
      },
      "outputs": [],
      "source": [
        "import os"
      ]
    },
    {
      "cell_type": "code",
      "execution_count": null,
      "metadata": {
        "colab": {
          "base_uri": "https://localhost:8080/"
        },
        "id": "wq55pjBBLo9W",
        "outputId": "a9eeb2fb-8de7-468f-e8ca-372a62c9b439"
      },
      "outputs": [
        {
          "output_type": "stream",
          "name": "stdout",
          "text": [
            "Mounted at /content/drive\n"
          ]
        }
      ],
      "source": [
        "from google.colab import drive\n",
        "drive.mount('/content/drive')"
      ]
    },
    {
      "cell_type": "code",
      "execution_count": null,
      "metadata": {
        "id": "kHpYWpsPL3Vv"
      },
      "outputs": [],
      "source": [
        "curr_dir = os.path.join(os.getcwd())\n",
        "os.chdir(curr_dir)"
      ]
    },
    {
      "cell_type": "code",
      "execution_count": null,
      "metadata": {
        "colab": {
          "base_uri": "https://localhost:8080/"
        },
        "id": "gKqprgOWHCOG",
        "outputId": "5efa6e27-5959-4318-b4a4-acc6b9ed23df"
      },
      "outputs": [
        {
          "output_type": "stream",
          "name": "stderr",
          "text": [
            "[nltk_data] Downloading package stopwords to /root/nltk_data...\n",
            "[nltk_data]   Unzipping corpora/stopwords.zip.\n",
            "[nltk_data] Downloading package wordnet to /root/nltk_data...\n",
            "[nltk_data] Downloading package punkt to /root/nltk_data...\n",
            "[nltk_data]   Unzipping tokenizers/punkt.zip.\n",
            "[nltk_data] Downloading collection 'popular'\n",
            "[nltk_data]    | \n",
            "[nltk_data]    | Downloading package cmudict to /root/nltk_data...\n",
            "[nltk_data]    |   Unzipping corpora/cmudict.zip.\n",
            "[nltk_data]    | Downloading package gazetteers to /root/nltk_data...\n",
            "[nltk_data]    |   Unzipping corpora/gazetteers.zip.\n",
            "[nltk_data]    | Downloading package genesis to /root/nltk_data...\n",
            "[nltk_data]    |   Unzipping corpora/genesis.zip.\n",
            "[nltk_data]    | Downloading package gutenberg to /root/nltk_data...\n",
            "[nltk_data]    |   Unzipping corpora/gutenberg.zip.\n",
            "[nltk_data]    | Downloading package inaugural to /root/nltk_data...\n",
            "[nltk_data]    |   Unzipping corpora/inaugural.zip.\n",
            "[nltk_data]    | Downloading package movie_reviews to\n",
            "[nltk_data]    |     /root/nltk_data...\n",
            "[nltk_data]    |   Unzipping corpora/movie_reviews.zip.\n",
            "[nltk_data]    | Downloading package names to /root/nltk_data...\n",
            "[nltk_data]    |   Unzipping corpora/names.zip.\n",
            "[nltk_data]    | Downloading package shakespeare to /root/nltk_data...\n",
            "[nltk_data]    |   Unzipping corpora/shakespeare.zip.\n",
            "[nltk_data]    | Downloading package stopwords to /root/nltk_data...\n",
            "[nltk_data]    |   Package stopwords is already up-to-date!\n",
            "[nltk_data]    | Downloading package treebank to /root/nltk_data...\n",
            "[nltk_data]    |   Unzipping corpora/treebank.zip.\n",
            "[nltk_data]    | Downloading package twitter_samples to\n",
            "[nltk_data]    |     /root/nltk_data...\n",
            "[nltk_data]    |   Unzipping corpora/twitter_samples.zip.\n",
            "[nltk_data]    | Downloading package omw to /root/nltk_data...\n",
            "[nltk_data]    | Downloading package omw-1.4 to /root/nltk_data...\n",
            "[nltk_data]    | Downloading package wordnet to /root/nltk_data...\n",
            "[nltk_data]    |   Package wordnet is already up-to-date!\n",
            "[nltk_data]    | Downloading package wordnet2021 to /root/nltk_data...\n",
            "[nltk_data]    | Downloading package wordnet31 to /root/nltk_data...\n",
            "[nltk_data]    | Downloading package wordnet_ic to /root/nltk_data...\n",
            "[nltk_data]    |   Unzipping corpora/wordnet_ic.zip.\n",
            "[nltk_data]    | Downloading package words to /root/nltk_data...\n",
            "[nltk_data]    |   Unzipping corpora/words.zip.\n",
            "[nltk_data]    | Downloading package maxent_ne_chunker to\n",
            "[nltk_data]    |     /root/nltk_data...\n",
            "[nltk_data]    |   Unzipping chunkers/maxent_ne_chunker.zip.\n",
            "[nltk_data]    | Downloading package punkt to /root/nltk_data...\n",
            "[nltk_data]    |   Package punkt is already up-to-date!\n",
            "[nltk_data]    | Downloading package snowball_data to\n",
            "[nltk_data]    |     /root/nltk_data...\n",
            "[nltk_data]    | Downloading package averaged_perceptron_tagger to\n",
            "[nltk_data]    |     /root/nltk_data...\n",
            "[nltk_data]    |   Unzipping taggers/averaged_perceptron_tagger.zip.\n",
            "[nltk_data]    | \n",
            "[nltk_data]  Done downloading collection popular\n"
          ]
        }
      ],
      "source": [
        "#import and download all the library & packages needed \n",
        "import numpy as np\n",
        "import pandas as pd\n",
        "import string\n",
        "from string import digits\n",
        "import nltk\n",
        "nltk.download('stopwords')\n",
        "nltk.download('wordnet')\n",
        "nltk.download('punkt')\n",
        "nltk.download(\"popular\")\n",
        "\n",
        "from nltk.corpus import stopwords\n",
        "from nltk.tokenize import RegexpTokenizer\n",
        "from nltk.stem import WordNetLemmatizer\n",
        "from wordcloud import WordCloud\n",
        "\n",
        "import seaborn as sns #visualization library\n",
        "import plotly.express as px\n",
        "\n",
        "###########"
      ]
    },
    {
      "cell_type": "markdown",
      "metadata": {
        "id": "odZPjAudIY3P"
      },
      "source": [
        "##### 4.2. Code"
      ]
    },
    {
      "cell_type": "code",
      "execution_count": null,
      "metadata": {
        "colab": {
          "base_uri": "https://localhost:8080/",
          "height": 206
        },
        "id": "gmSHOdQLEY7Q",
        "outputId": "834d0871-96ce-4d52-b9ad-f57b408c0968"
      },
      "outputs": [
        {
          "output_type": "execute_result",
          "data": {
            "text/plain": [
              "                                        Actual Items\n",
              "0  I think that I would like to use this applicat...\n",
              "1      I found the application unnecessarily complex\n",
              "2          I thought the application was easy to use\n",
              "3  I think that I need the support of a technical...\n",
              "4  I found the various functions in the applicati..."
            ],
            "text/html": [
              "\n",
              "  <div id=\"df-f4b63759-f7a8-4641-b618-421a9d6a4b81\">\n",
              "    <div class=\"colab-df-container\">\n",
              "      <div>\n",
              "<style scoped>\n",
              "    .dataframe tbody tr th:only-of-type {\n",
              "        vertical-align: middle;\n",
              "    }\n",
              "\n",
              "    .dataframe tbody tr th {\n",
              "        vertical-align: top;\n",
              "    }\n",
              "\n",
              "    .dataframe thead th {\n",
              "        text-align: right;\n",
              "    }\n",
              "</style>\n",
              "<table border=\"1\" class=\"dataframe\">\n",
              "  <thead>\n",
              "    <tr style=\"text-align: right;\">\n",
              "      <th></th>\n",
              "      <th>Actual Items</th>\n",
              "    </tr>\n",
              "  </thead>\n",
              "  <tbody>\n",
              "    <tr>\n",
              "      <th>0</th>\n",
              "      <td>I think that I would like to use this applicat...</td>\n",
              "    </tr>\n",
              "    <tr>\n",
              "      <th>1</th>\n",
              "      <td>I found the application unnecessarily complex</td>\n",
              "    </tr>\n",
              "    <tr>\n",
              "      <th>2</th>\n",
              "      <td>I thought the application was easy to use</td>\n",
              "    </tr>\n",
              "    <tr>\n",
              "      <th>3</th>\n",
              "      <td>I think that I need the support of a technical...</td>\n",
              "    </tr>\n",
              "    <tr>\n",
              "      <th>4</th>\n",
              "      <td>I found the various functions in the applicati...</td>\n",
              "    </tr>\n",
              "  </tbody>\n",
              "</table>\n",
              "</div>\n",
              "      <button class=\"colab-df-convert\" onclick=\"convertToInteractive('df-f4b63759-f7a8-4641-b618-421a9d6a4b81')\"\n",
              "              title=\"Convert this dataframe to an interactive table.\"\n",
              "              style=\"display:none;\">\n",
              "        \n",
              "  <svg xmlns=\"http://www.w3.org/2000/svg\" height=\"24px\"viewBox=\"0 0 24 24\"\n",
              "       width=\"24px\">\n",
              "    <path d=\"M0 0h24v24H0V0z\" fill=\"none\"/>\n",
              "    <path d=\"M18.56 5.44l.94 2.06.94-2.06 2.06-.94-2.06-.94-.94-2.06-.94 2.06-2.06.94zm-11 1L8.5 8.5l.94-2.06 2.06-.94-2.06-.94L8.5 2.5l-.94 2.06-2.06.94zm10 10l.94 2.06.94-2.06 2.06-.94-2.06-.94-.94-2.06-.94 2.06-2.06.94z\"/><path d=\"M17.41 7.96l-1.37-1.37c-.4-.4-.92-.59-1.43-.59-.52 0-1.04.2-1.43.59L10.3 9.45l-7.72 7.72c-.78.78-.78 2.05 0 2.83L4 21.41c.39.39.9.59 1.41.59.51 0 1.02-.2 1.41-.59l7.78-7.78 2.81-2.81c.8-.78.8-2.07 0-2.86zM5.41 20L4 18.59l7.72-7.72 1.47 1.35L5.41 20z\"/>\n",
              "  </svg>\n",
              "      </button>\n",
              "      \n",
              "  <style>\n",
              "    .colab-df-container {\n",
              "      display:flex;\n",
              "      flex-wrap:wrap;\n",
              "      gap: 12px;\n",
              "    }\n",
              "\n",
              "    .colab-df-convert {\n",
              "      background-color: #E8F0FE;\n",
              "      border: none;\n",
              "      border-radius: 50%;\n",
              "      cursor: pointer;\n",
              "      display: none;\n",
              "      fill: #1967D2;\n",
              "      height: 32px;\n",
              "      padding: 0 0 0 0;\n",
              "      width: 32px;\n",
              "    }\n",
              "\n",
              "    .colab-df-convert:hover {\n",
              "      background-color: #E2EBFA;\n",
              "      box-shadow: 0px 1px 2px rgba(60, 64, 67, 0.3), 0px 1px 3px 1px rgba(60, 64, 67, 0.15);\n",
              "      fill: #174EA6;\n",
              "    }\n",
              "\n",
              "    [theme=dark] .colab-df-convert {\n",
              "      background-color: #3B4455;\n",
              "      fill: #D2E3FC;\n",
              "    }\n",
              "\n",
              "    [theme=dark] .colab-df-convert:hover {\n",
              "      background-color: #434B5C;\n",
              "      box-shadow: 0px 1px 3px 1px rgba(0, 0, 0, 0.15);\n",
              "      filter: drop-shadow(0px 1px 2px rgba(0, 0, 0, 0.3));\n",
              "      fill: #FFFFFF;\n",
              "    }\n",
              "  </style>\n",
              "\n",
              "      <script>\n",
              "        const buttonEl =\n",
              "          document.querySelector('#df-f4b63759-f7a8-4641-b618-421a9d6a4b81 button.colab-df-convert');\n",
              "        buttonEl.style.display =\n",
              "          google.colab.kernel.accessAllowed ? 'block' : 'none';\n",
              "\n",
              "        async function convertToInteractive(key) {\n",
              "          const element = document.querySelector('#df-f4b63759-f7a8-4641-b618-421a9d6a4b81');\n",
              "          const dataTable =\n",
              "            await google.colab.kernel.invokeFunction('convertToInteractive',\n",
              "                                                     [key], {});\n",
              "          if (!dataTable) return;\n",
              "\n",
              "          const docLinkHtml = 'Like what you see? Visit the ' +\n",
              "            '<a target=\"_blank\" href=https://colab.research.google.com/notebooks/data_table.ipynb>data table notebook</a>'\n",
              "            + ' to learn more about interactive tables.';\n",
              "          element.innerHTML = '';\n",
              "          dataTable['output_type'] = 'display_data';\n",
              "          await google.colab.output.renderOutput(dataTable, element);\n",
              "          const docLink = document.createElement('div');\n",
              "          docLink.innerHTML = docLinkHtml;\n",
              "          element.appendChild(docLink);\n",
              "        }\n",
              "      </script>\n",
              "    </div>\n",
              "  </div>\n",
              "  "
            ]
          },
          "metadata": {},
          "execution_count": 6
        }
      ],
      "source": [
        "#import data \n",
        "data = pd.read_excel('/content/drive/MyDrive/Colab Notebooks/HW/data/Instrument Items.xlsx')\n",
        "data.head()"
      ]
    },
    {
      "cell_type": "code",
      "execution_count": null,
      "metadata": {
        "colab": {
          "base_uri": "https://localhost:8080/"
        },
        "id": "rvCpQXtUFbti",
        "outputId": "0dc4c15b-2d7f-4041-be5a-a404a869f9dd"
      },
      "outputs": [
        {
          "output_type": "stream",
          "name": "stdout",
          "text": [
            "['University students currently enrolled in an anatomy course?']\n"
          ]
        }
      ],
      "source": [
        "#random check\n",
        "print(data.values[56])"
      ]
    },
    {
      "cell_type": "code",
      "execution_count": null,
      "metadata": {
        "id": "cGk2qisEEkhm"
      },
      "outputs": [],
      "source": [
        "#lower case\n",
        "data['Actual Items'] = data['Actual Items'].str.lower()"
      ]
    },
    {
      "cell_type": "code",
      "execution_count": null,
      "metadata": {
        "colab": {
          "base_uri": "https://localhost:8080/"
        },
        "id": "aPgd11OSEy11",
        "outputId": "6ea6af6a-c265-4200-b538-4626e3cebbd4"
      },
      "outputs": [
        {
          "output_type": "stream",
          "name": "stdout",
          "text": [
            "university students currently enrolled in an anatomy course?\n"
          ]
        }
      ],
      "source": [
        "#random check\n",
        "print(data['Actual Items'][56])"
      ]
    },
    {
      "cell_type": "code",
      "execution_count": null,
      "metadata": {
        "colab": {
          "base_uri": "https://localhost:8080/"
        },
        "id": "z0bAYK8MEnrz",
        "outputId": "0bf6c7fc-a41d-4018-9c88-1b797b7563a9"
      },
      "outputs": [
        {
          "output_type": "stream",
          "name": "stderr",
          "text": [
            "<ipython-input-8-efbf1538c9a0>:2: FutureWarning: The default value of regex will change from True to False in a future version.\n",
            "  data['Actual Items'] = data['Actual Items'].str.replace('[^\\w\\s]','')\n"
          ]
        }
      ],
      "source": [
        "#remove punctuations\n",
        "data['Actual Items'] = data['Actual Items'].str.replace('[^\\w\\s]','')\n",
        "table = str.maketrans('', '', digits)\n",
        "data['Actual Items'] = data['Actual Items'].apply(lambda x: x.translate(table))"
      ]
    },
    {
      "cell_type": "code",
      "execution_count": null,
      "metadata": {
        "colab": {
          "base_uri": "https://localhost:8080/"
        },
        "id": "yZ8u_5-fEnoq",
        "outputId": "fb9e52be-8848-4fa2-a0d6-d06fa7b63b51"
      },
      "outputs": [
        {
          "output_type": "stream",
          "name": "stdout",
          "text": [
            "university students currently enrolled in an anatomy course\n"
          ]
        }
      ],
      "source": [
        "#random check\n",
        "print(data['Actual Items'][56])"
      ]
    },
    {
      "cell_type": "code",
      "execution_count": null,
      "metadata": {
        "id": "yLzmeY2xEnlh"
      },
      "outputs": [],
      "source": [
        "#identify stopwords using the package 'English', and added my own stopwords based on the data.\n",
        "stop = stopwords.words('english')\n",
        "stop.extend(['think','frequently','would','I'])\n",
        "data['number of stopwords'] = data['Actual Items'].apply(lambda x: len([x for x in x.split() if x in stop]))\n",
        "data['stopwords'] = data['Actual Items'].apply(lambda x: [x for x in x.split() if x in stop])"
      ]
    },
    {
      "cell_type": "code",
      "execution_count": null,
      "metadata": {
        "colab": {
          "base_uri": "https://localhost:8080/",
          "height": 424
        },
        "id": "rB8kIO8u94tC",
        "outputId": "7f73327e-2aed-48b5-943d-18b2b4abb81c"
      },
      "outputs": [
        {
          "output_type": "execute_result",
          "data": {
            "text/plain": [
              "                                          Actual Items  number of stopwords  \\\n",
              "0    i think that i would like to use this applicat...                    8   \n",
              "1        i found the application unnecessarily complex                    2   \n",
              "2            i thought the application was easy to use                    4   \n",
              "3    i think that i need the support of a technical...                   11   \n",
              "4    i found the various functions in the applicati...                    5   \n",
              "..                                                 ...                  ...   \n",
              "884                                video file adequacy                    0   \n",
              "885                                     image adequacy                    0   \n",
              "886                                     color adequacy                    0   \n",
              "887                                    screen sequence                    0   \n",
              "888                                  page upload speed                    0   \n",
              "\n",
              "                                             stopwords  \n",
              "0     [i, think, that, i, would, to, this, frequently]  \n",
              "1                                             [i, the]  \n",
              "2                                    [i, the, was, to]  \n",
              "3    [i, think, that, i, the, of, a, to, be, to, this]  \n",
              "4                              [i, the, in, the, were]  \n",
              "..                                                 ...  \n",
              "884                                                 []  \n",
              "885                                                 []  \n",
              "886                                                 []  \n",
              "887                                                 []  \n",
              "888                                                 []  \n",
              "\n",
              "[889 rows x 3 columns]"
            ],
            "text/html": [
              "\n",
              "  <div id=\"df-2cb96d36-9cae-45c5-9f5f-9bbffc0cc280\">\n",
              "    <div class=\"colab-df-container\">\n",
              "      <div>\n",
              "<style scoped>\n",
              "    .dataframe tbody tr th:only-of-type {\n",
              "        vertical-align: middle;\n",
              "    }\n",
              "\n",
              "    .dataframe tbody tr th {\n",
              "        vertical-align: top;\n",
              "    }\n",
              "\n",
              "    .dataframe thead th {\n",
              "        text-align: right;\n",
              "    }\n",
              "</style>\n",
              "<table border=\"1\" class=\"dataframe\">\n",
              "  <thead>\n",
              "    <tr style=\"text-align: right;\">\n",
              "      <th></th>\n",
              "      <th>Actual Items</th>\n",
              "      <th>number of stopwords</th>\n",
              "      <th>stopwords</th>\n",
              "    </tr>\n",
              "  </thead>\n",
              "  <tbody>\n",
              "    <tr>\n",
              "      <th>0</th>\n",
              "      <td>i think that i would like to use this applicat...</td>\n",
              "      <td>8</td>\n",
              "      <td>[i, think, that, i, would, to, this, frequently]</td>\n",
              "    </tr>\n",
              "    <tr>\n",
              "      <th>1</th>\n",
              "      <td>i found the application unnecessarily complex</td>\n",
              "      <td>2</td>\n",
              "      <td>[i, the]</td>\n",
              "    </tr>\n",
              "    <tr>\n",
              "      <th>2</th>\n",
              "      <td>i thought the application was easy to use</td>\n",
              "      <td>4</td>\n",
              "      <td>[i, the, was, to]</td>\n",
              "    </tr>\n",
              "    <tr>\n",
              "      <th>3</th>\n",
              "      <td>i think that i need the support of a technical...</td>\n",
              "      <td>11</td>\n",
              "      <td>[i, think, that, i, the, of, a, to, be, to, this]</td>\n",
              "    </tr>\n",
              "    <tr>\n",
              "      <th>4</th>\n",
              "      <td>i found the various functions in the applicati...</td>\n",
              "      <td>5</td>\n",
              "      <td>[i, the, in, the, were]</td>\n",
              "    </tr>\n",
              "    <tr>\n",
              "      <th>...</th>\n",
              "      <td>...</td>\n",
              "      <td>...</td>\n",
              "      <td>...</td>\n",
              "    </tr>\n",
              "    <tr>\n",
              "      <th>884</th>\n",
              "      <td>video file adequacy</td>\n",
              "      <td>0</td>\n",
              "      <td>[]</td>\n",
              "    </tr>\n",
              "    <tr>\n",
              "      <th>885</th>\n",
              "      <td>image adequacy</td>\n",
              "      <td>0</td>\n",
              "      <td>[]</td>\n",
              "    </tr>\n",
              "    <tr>\n",
              "      <th>886</th>\n",
              "      <td>color adequacy</td>\n",
              "      <td>0</td>\n",
              "      <td>[]</td>\n",
              "    </tr>\n",
              "    <tr>\n",
              "      <th>887</th>\n",
              "      <td>screen sequence</td>\n",
              "      <td>0</td>\n",
              "      <td>[]</td>\n",
              "    </tr>\n",
              "    <tr>\n",
              "      <th>888</th>\n",
              "      <td>page upload speed</td>\n",
              "      <td>0</td>\n",
              "      <td>[]</td>\n",
              "    </tr>\n",
              "  </tbody>\n",
              "</table>\n",
              "<p>889 rows × 3 columns</p>\n",
              "</div>\n",
              "      <button class=\"colab-df-convert\" onclick=\"convertToInteractive('df-2cb96d36-9cae-45c5-9f5f-9bbffc0cc280')\"\n",
              "              title=\"Convert this dataframe to an interactive table.\"\n",
              "              style=\"display:none;\">\n",
              "        \n",
              "  <svg xmlns=\"http://www.w3.org/2000/svg\" height=\"24px\"viewBox=\"0 0 24 24\"\n",
              "       width=\"24px\">\n",
              "    <path d=\"M0 0h24v24H0V0z\" fill=\"none\"/>\n",
              "    <path d=\"M18.56 5.44l.94 2.06.94-2.06 2.06-.94-2.06-.94-.94-2.06-.94 2.06-2.06.94zm-11 1L8.5 8.5l.94-2.06 2.06-.94-2.06-.94L8.5 2.5l-.94 2.06-2.06.94zm10 10l.94 2.06.94-2.06 2.06-.94-2.06-.94-.94-2.06-.94 2.06-2.06.94z\"/><path d=\"M17.41 7.96l-1.37-1.37c-.4-.4-.92-.59-1.43-.59-.52 0-1.04.2-1.43.59L10.3 9.45l-7.72 7.72c-.78.78-.78 2.05 0 2.83L4 21.41c.39.39.9.59 1.41.59.51 0 1.02-.2 1.41-.59l7.78-7.78 2.81-2.81c.8-.78.8-2.07 0-2.86zM5.41 20L4 18.59l7.72-7.72 1.47 1.35L5.41 20z\"/>\n",
              "  </svg>\n",
              "      </button>\n",
              "      \n",
              "  <style>\n",
              "    .colab-df-container {\n",
              "      display:flex;\n",
              "      flex-wrap:wrap;\n",
              "      gap: 12px;\n",
              "    }\n",
              "\n",
              "    .colab-df-convert {\n",
              "      background-color: #E8F0FE;\n",
              "      border: none;\n",
              "      border-radius: 50%;\n",
              "      cursor: pointer;\n",
              "      display: none;\n",
              "      fill: #1967D2;\n",
              "      height: 32px;\n",
              "      padding: 0 0 0 0;\n",
              "      width: 32px;\n",
              "    }\n",
              "\n",
              "    .colab-df-convert:hover {\n",
              "      background-color: #E2EBFA;\n",
              "      box-shadow: 0px 1px 2px rgba(60, 64, 67, 0.3), 0px 1px 3px 1px rgba(60, 64, 67, 0.15);\n",
              "      fill: #174EA6;\n",
              "    }\n",
              "\n",
              "    [theme=dark] .colab-df-convert {\n",
              "      background-color: #3B4455;\n",
              "      fill: #D2E3FC;\n",
              "    }\n",
              "\n",
              "    [theme=dark] .colab-df-convert:hover {\n",
              "      background-color: #434B5C;\n",
              "      box-shadow: 0px 1px 3px 1px rgba(0, 0, 0, 0.15);\n",
              "      filter: drop-shadow(0px 1px 2px rgba(0, 0, 0, 0.3));\n",
              "      fill: #FFFFFF;\n",
              "    }\n",
              "  </style>\n",
              "\n",
              "      <script>\n",
              "        const buttonEl =\n",
              "          document.querySelector('#df-2cb96d36-9cae-45c5-9f5f-9bbffc0cc280 button.colab-df-convert');\n",
              "        buttonEl.style.display =\n",
              "          google.colab.kernel.accessAllowed ? 'block' : 'none';\n",
              "\n",
              "        async function convertToInteractive(key) {\n",
              "          const element = document.querySelector('#df-2cb96d36-9cae-45c5-9f5f-9bbffc0cc280');\n",
              "          const dataTable =\n",
              "            await google.colab.kernel.invokeFunction('convertToInteractive',\n",
              "                                                     [key], {});\n",
              "          if (!dataTable) return;\n",
              "\n",
              "          const docLinkHtml = 'Like what you see? Visit the ' +\n",
              "            '<a target=\"_blank\" href=https://colab.research.google.com/notebooks/data_table.ipynb>data table notebook</a>'\n",
              "            + ' to learn more about interactive tables.';\n",
              "          element.innerHTML = '';\n",
              "          dataTable['output_type'] = 'display_data';\n",
              "          await google.colab.output.renderOutput(dataTable, element);\n",
              "          const docLink = document.createElement('div');\n",
              "          docLink.innerHTML = docLinkHtml;\n",
              "          element.appendChild(docLink);\n",
              "        }\n",
              "      </script>\n",
              "    </div>\n",
              "  </div>\n",
              "  "
            ]
          },
          "metadata": {},
          "execution_count": 16
        }
      ],
      "source": [
        "data"
      ]
    },
    {
      "cell_type": "code",
      "execution_count": null,
      "metadata": {
        "id": "w7NEXoefNRQu"
      },
      "outputs": [],
      "source": [
        "#remove stopwords from items and save the output to a column named 'Cleaned Items'.\n",
        "items = []\n",
        "for x in data['stopwords'].values.tolist():\n",
        "  items.extend(x)\n",
        "data['Cleaned Items'] = data['Actual Items'].apply(lambda x: ' '.join([item for item in x.split() if item not in items]))"
      ]
    },
    {
      "cell_type": "code",
      "execution_count": null,
      "metadata": {
        "colab": {
          "base_uri": "https://localhost:8080/",
          "height": 424
        },
        "id": "pqSk3cPGWDzy",
        "outputId": "1f14de80-9321-4768-d61e-3d42710561e7"
      },
      "outputs": [
        {
          "output_type": "execute_result",
          "data": {
            "text/plain": [
              "                                          Actual Items  number of stopwords  \\\n",
              "0    i think that i would like to use this applicat...                    8   \n",
              "1        i found the application unnecessarily complex                    2   \n",
              "2            i thought the application was easy to use                    4   \n",
              "3    i think that i need the support of a technical...                   11   \n",
              "4    i found the various functions in the applicati...                    5   \n",
              "..                                                 ...                  ...   \n",
              "884                                video file adequacy                    0   \n",
              "885                                     image adequacy                    0   \n",
              "886                                     color adequacy                    0   \n",
              "887                                    screen sequence                    0   \n",
              "888                                  page upload speed                    0   \n",
              "\n",
              "                                             stopwords  \\\n",
              "0     [i, think, that, i, would, to, this, frequently]   \n",
              "1                                             [i, the]   \n",
              "2                                    [i, the, was, to]   \n",
              "3    [i, think, that, i, the, of, a, to, be, to, this]   \n",
              "4                              [i, the, in, the, were]   \n",
              "..                                                 ...   \n",
              "884                                                 []   \n",
              "885                                                 []   \n",
              "886                                                 []   \n",
              "887                                                 []   \n",
              "888                                                 []   \n",
              "\n",
              "                                         Cleaned Items  \n",
              "0                                 like use application  \n",
              "1              found application unnecessarily complex  \n",
              "2                         thought application easy use  \n",
              "3    need support technical person able use applica...  \n",
              "4    found various functions application well integ...  \n",
              "..                                                 ...  \n",
              "884                                video file adequacy  \n",
              "885                                     image adequacy  \n",
              "886                                     color adequacy  \n",
              "887                                    screen sequence  \n",
              "888                                  page upload speed  \n",
              "\n",
              "[889 rows x 4 columns]"
            ],
            "text/html": [
              "\n",
              "  <div id=\"df-a2c0e0df-5767-4523-9075-873fb0389347\">\n",
              "    <div class=\"colab-df-container\">\n",
              "      <div>\n",
              "<style scoped>\n",
              "    .dataframe tbody tr th:only-of-type {\n",
              "        vertical-align: middle;\n",
              "    }\n",
              "\n",
              "    .dataframe tbody tr th {\n",
              "        vertical-align: top;\n",
              "    }\n",
              "\n",
              "    .dataframe thead th {\n",
              "        text-align: right;\n",
              "    }\n",
              "</style>\n",
              "<table border=\"1\" class=\"dataframe\">\n",
              "  <thead>\n",
              "    <tr style=\"text-align: right;\">\n",
              "      <th></th>\n",
              "      <th>Actual Items</th>\n",
              "      <th>number of stopwords</th>\n",
              "      <th>stopwords</th>\n",
              "      <th>Cleaned Items</th>\n",
              "    </tr>\n",
              "  </thead>\n",
              "  <tbody>\n",
              "    <tr>\n",
              "      <th>0</th>\n",
              "      <td>i think that i would like to use this applicat...</td>\n",
              "      <td>8</td>\n",
              "      <td>[i, think, that, i, would, to, this, frequently]</td>\n",
              "      <td>like use application</td>\n",
              "    </tr>\n",
              "    <tr>\n",
              "      <th>1</th>\n",
              "      <td>i found the application unnecessarily complex</td>\n",
              "      <td>2</td>\n",
              "      <td>[i, the]</td>\n",
              "      <td>found application unnecessarily complex</td>\n",
              "    </tr>\n",
              "    <tr>\n",
              "      <th>2</th>\n",
              "      <td>i thought the application was easy to use</td>\n",
              "      <td>4</td>\n",
              "      <td>[i, the, was, to]</td>\n",
              "      <td>thought application easy use</td>\n",
              "    </tr>\n",
              "    <tr>\n",
              "      <th>3</th>\n",
              "      <td>i think that i need the support of a technical...</td>\n",
              "      <td>11</td>\n",
              "      <td>[i, think, that, i, the, of, a, to, be, to, this]</td>\n",
              "      <td>need support technical person able use applica...</td>\n",
              "    </tr>\n",
              "    <tr>\n",
              "      <th>4</th>\n",
              "      <td>i found the various functions in the applicati...</td>\n",
              "      <td>5</td>\n",
              "      <td>[i, the, in, the, were]</td>\n",
              "      <td>found various functions application well integ...</td>\n",
              "    </tr>\n",
              "    <tr>\n",
              "      <th>...</th>\n",
              "      <td>...</td>\n",
              "      <td>...</td>\n",
              "      <td>...</td>\n",
              "      <td>...</td>\n",
              "    </tr>\n",
              "    <tr>\n",
              "      <th>884</th>\n",
              "      <td>video file adequacy</td>\n",
              "      <td>0</td>\n",
              "      <td>[]</td>\n",
              "      <td>video file adequacy</td>\n",
              "    </tr>\n",
              "    <tr>\n",
              "      <th>885</th>\n",
              "      <td>image adequacy</td>\n",
              "      <td>0</td>\n",
              "      <td>[]</td>\n",
              "      <td>image adequacy</td>\n",
              "    </tr>\n",
              "    <tr>\n",
              "      <th>886</th>\n",
              "      <td>color adequacy</td>\n",
              "      <td>0</td>\n",
              "      <td>[]</td>\n",
              "      <td>color adequacy</td>\n",
              "    </tr>\n",
              "    <tr>\n",
              "      <th>887</th>\n",
              "      <td>screen sequence</td>\n",
              "      <td>0</td>\n",
              "      <td>[]</td>\n",
              "      <td>screen sequence</td>\n",
              "    </tr>\n",
              "    <tr>\n",
              "      <th>888</th>\n",
              "      <td>page upload speed</td>\n",
              "      <td>0</td>\n",
              "      <td>[]</td>\n",
              "      <td>page upload speed</td>\n",
              "    </tr>\n",
              "  </tbody>\n",
              "</table>\n",
              "<p>889 rows × 4 columns</p>\n",
              "</div>\n",
              "      <button class=\"colab-df-convert\" onclick=\"convertToInteractive('df-a2c0e0df-5767-4523-9075-873fb0389347')\"\n",
              "              title=\"Convert this dataframe to an interactive table.\"\n",
              "              style=\"display:none;\">\n",
              "        \n",
              "  <svg xmlns=\"http://www.w3.org/2000/svg\" height=\"24px\"viewBox=\"0 0 24 24\"\n",
              "       width=\"24px\">\n",
              "    <path d=\"M0 0h24v24H0V0z\" fill=\"none\"/>\n",
              "    <path d=\"M18.56 5.44l.94 2.06.94-2.06 2.06-.94-2.06-.94-.94-2.06-.94 2.06-2.06.94zm-11 1L8.5 8.5l.94-2.06 2.06-.94-2.06-.94L8.5 2.5l-.94 2.06-2.06.94zm10 10l.94 2.06.94-2.06 2.06-.94-2.06-.94-.94-2.06-.94 2.06-2.06.94z\"/><path d=\"M17.41 7.96l-1.37-1.37c-.4-.4-.92-.59-1.43-.59-.52 0-1.04.2-1.43.59L10.3 9.45l-7.72 7.72c-.78.78-.78 2.05 0 2.83L4 21.41c.39.39.9.59 1.41.59.51 0 1.02-.2 1.41-.59l7.78-7.78 2.81-2.81c.8-.78.8-2.07 0-2.86zM5.41 20L4 18.59l7.72-7.72 1.47 1.35L5.41 20z\"/>\n",
              "  </svg>\n",
              "      </button>\n",
              "      \n",
              "  <style>\n",
              "    .colab-df-container {\n",
              "      display:flex;\n",
              "      flex-wrap:wrap;\n",
              "      gap: 12px;\n",
              "    }\n",
              "\n",
              "    .colab-df-convert {\n",
              "      background-color: #E8F0FE;\n",
              "      border: none;\n",
              "      border-radius: 50%;\n",
              "      cursor: pointer;\n",
              "      display: none;\n",
              "      fill: #1967D2;\n",
              "      height: 32px;\n",
              "      padding: 0 0 0 0;\n",
              "      width: 32px;\n",
              "    }\n",
              "\n",
              "    .colab-df-convert:hover {\n",
              "      background-color: #E2EBFA;\n",
              "      box-shadow: 0px 1px 2px rgba(60, 64, 67, 0.3), 0px 1px 3px 1px rgba(60, 64, 67, 0.15);\n",
              "      fill: #174EA6;\n",
              "    }\n",
              "\n",
              "    [theme=dark] .colab-df-convert {\n",
              "      background-color: #3B4455;\n",
              "      fill: #D2E3FC;\n",
              "    }\n",
              "\n",
              "    [theme=dark] .colab-df-convert:hover {\n",
              "      background-color: #434B5C;\n",
              "      box-shadow: 0px 1px 3px 1px rgba(0, 0, 0, 0.15);\n",
              "      filter: drop-shadow(0px 1px 2px rgba(0, 0, 0, 0.3));\n",
              "      fill: #FFFFFF;\n",
              "    }\n",
              "  </style>\n",
              "\n",
              "      <script>\n",
              "        const buttonEl =\n",
              "          document.querySelector('#df-a2c0e0df-5767-4523-9075-873fb0389347 button.colab-df-convert');\n",
              "        buttonEl.style.display =\n",
              "          google.colab.kernel.accessAllowed ? 'block' : 'none';\n",
              "\n",
              "        async function convertToInteractive(key) {\n",
              "          const element = document.querySelector('#df-a2c0e0df-5767-4523-9075-873fb0389347');\n",
              "          const dataTable =\n",
              "            await google.colab.kernel.invokeFunction('convertToInteractive',\n",
              "                                                     [key], {});\n",
              "          if (!dataTable) return;\n",
              "\n",
              "          const docLinkHtml = 'Like what you see? Visit the ' +\n",
              "            '<a target=\"_blank\" href=https://colab.research.google.com/notebooks/data_table.ipynb>data table notebook</a>'\n",
              "            + ' to learn more about interactive tables.';\n",
              "          element.innerHTML = '';\n",
              "          dataTable['output_type'] = 'display_data';\n",
              "          await google.colab.output.renderOutput(dataTable, element);\n",
              "          const docLink = document.createElement('div');\n",
              "          docLink.innerHTML = docLinkHtml;\n",
              "          element.appendChild(docLink);\n",
              "        }\n",
              "      </script>\n",
              "    </div>\n",
              "  </div>\n",
              "  "
            ]
          },
          "metadata": {},
          "execution_count": 18
        }
      ],
      "source": [
        "data"
      ]
    },
    {
      "cell_type": "code",
      "execution_count": null,
      "metadata": {
        "id": "Qj-fiYwCUIeO"
      },
      "outputs": [],
      "source": [
        "#use .join to first combine all items and then use .split() to split items into uniqe words\n",
        "#use pandas.Series.value_counts() to identify the most frequent and least frequent words\n",
        "#generate the output including the list of unique words and count frequency \n",
        "freq = pd.Series(' '.join(data['Cleaned Items']).split()).value_counts()\n",
        "freq = pd.DataFrame(freq,columns=['freq'])\n",
        "freq = freq.sort_values(by='freq',ascending=False)\n",
        "freq = freq.reset_index()\n",
        "freq.columns=['wordList','freq']"
      ]
    },
    {
      "cell_type": "code",
      "execution_count": null,
      "metadata": {
        "id": "ImGHu14qUcOr"
      },
      "outputs": [],
      "source": [
        "#import a more robust library for text processing\n",
        "from textblob import Word"
      ]
    },
    {
      "cell_type": "code",
      "execution_count": null,
      "metadata": {
        "id": "dQ9niYndTQV0"
      },
      "outputs": [],
      "source": [
        "#lemmatization\n",
        "#save lemmatized items in a new csv document\n",
        "freq['lemmatized']=[Word(word).lemmatize() for word in freq.wordList]\n",
        "freq.to_csv('/content/drive/MyDrive/Colab Notebooks/HW/data/Lemmatized.csv',index=False)"
      ]
    },
    {
      "cell_type": "code",
      "execution_count": null,
      "metadata": {
        "id": "BQYmAHhgU4Th"
      },
      "outputs": [],
      "source": [
        "#create a wordDic using previous output.\n",
        "freqTable = pd.read_csv('/content/drive/MyDrive/Colab Notebooks/HW/data/Lemmatized.csv')\n",
        "wordDict = freqTable[['wordList','lemmatized']].set_index('wordList')['lemmatized'].to_dict()"
      ]
    },
    {
      "cell_type": "code",
      "execution_count": null,
      "metadata": {
        "id": "_8LAEIlIVIeU"
      },
      "outputs": [],
      "source": [
        "#make sure previous processing processed all items\n",
        "data['Lemmatized Items']= data['Cleaned Items'].apply(lambda x: ' '.join(wordDict.get(str(x), None) for x in x.split() if wordDict.get(str(x), None) is not None))"
      ]
    },
    {
      "cell_type": "code",
      "execution_count": null,
      "metadata": {
        "colab": {
          "base_uri": "https://localhost:8080/",
          "height": 424
        },
        "id": "QWl9MJPBVT8f",
        "outputId": "fa434a6c-e797-4ee6-b20b-afa7cbeb243f"
      },
      "outputs": [
        {
          "output_type": "execute_result",
          "data": {
            "text/plain": [
              "                                          Actual Items  number of stopwords  \\\n",
              "0    i think that i would like to use this applicat...                    8   \n",
              "1        i found the application unnecessarily complex                    2   \n",
              "2            i thought the application was easy to use                    4   \n",
              "3    i think that i need the support of a technical...                   11   \n",
              "4    i found the various functions in the applicati...                    5   \n",
              "..                                                 ...                  ...   \n",
              "884                                video file adequacy                    0   \n",
              "885                                     image adequacy                    0   \n",
              "886                                     color adequacy                    0   \n",
              "887                                    screen sequence                    0   \n",
              "888                                  page upload speed                    0   \n",
              "\n",
              "                                             stopwords  \\\n",
              "0     [i, think, that, i, would, to, this, frequently]   \n",
              "1                                             [i, the]   \n",
              "2                                    [i, the, was, to]   \n",
              "3    [i, think, that, i, the, of, a, to, be, to, this]   \n",
              "4                              [i, the, in, the, were]   \n",
              "..                                                 ...   \n",
              "884                                                 []   \n",
              "885                                                 []   \n",
              "886                                                 []   \n",
              "887                                                 []   \n",
              "888                                                 []   \n",
              "\n",
              "                                         Cleaned Items  \\\n",
              "0                                 like use application   \n",
              "1              found application unnecessarily complex   \n",
              "2                         thought application easy use   \n",
              "3    need support technical person able use applica...   \n",
              "4    found various functions application well integ...   \n",
              "..                                                 ...   \n",
              "884                                video file adequacy   \n",
              "885                                     image adequacy   \n",
              "886                                     color adequacy   \n",
              "887                                    screen sequence   \n",
              "888                                  page upload speed   \n",
              "\n",
              "                                      Lemmatized Items  \n",
              "0                                 like use application  \n",
              "1              found application unnecessarily complex  \n",
              "2                         thought application easy use  \n",
              "3    need support technical person able use applica...  \n",
              "4    found various function application well integr...  \n",
              "..                                                 ...  \n",
              "884                                video file adequacy  \n",
              "885                                     image adequacy  \n",
              "886                                     color adequacy  \n",
              "887                                    screen sequence  \n",
              "888                                  page upload speed  \n",
              "\n",
              "[889 rows x 5 columns]"
            ],
            "text/html": [
              "\n",
              "  <div id=\"df-145bb0f0-3db8-4135-a2a6-5accb38512e4\">\n",
              "    <div class=\"colab-df-container\">\n",
              "      <div>\n",
              "<style scoped>\n",
              "    .dataframe tbody tr th:only-of-type {\n",
              "        vertical-align: middle;\n",
              "    }\n",
              "\n",
              "    .dataframe tbody tr th {\n",
              "        vertical-align: top;\n",
              "    }\n",
              "\n",
              "    .dataframe thead th {\n",
              "        text-align: right;\n",
              "    }\n",
              "</style>\n",
              "<table border=\"1\" class=\"dataframe\">\n",
              "  <thead>\n",
              "    <tr style=\"text-align: right;\">\n",
              "      <th></th>\n",
              "      <th>Actual Items</th>\n",
              "      <th>number of stopwords</th>\n",
              "      <th>stopwords</th>\n",
              "      <th>Cleaned Items</th>\n",
              "      <th>Lemmatized Items</th>\n",
              "    </tr>\n",
              "  </thead>\n",
              "  <tbody>\n",
              "    <tr>\n",
              "      <th>0</th>\n",
              "      <td>i think that i would like to use this applicat...</td>\n",
              "      <td>8</td>\n",
              "      <td>[i, think, that, i, would, to, this, frequently]</td>\n",
              "      <td>like use application</td>\n",
              "      <td>like use application</td>\n",
              "    </tr>\n",
              "    <tr>\n",
              "      <th>1</th>\n",
              "      <td>i found the application unnecessarily complex</td>\n",
              "      <td>2</td>\n",
              "      <td>[i, the]</td>\n",
              "      <td>found application unnecessarily complex</td>\n",
              "      <td>found application unnecessarily complex</td>\n",
              "    </tr>\n",
              "    <tr>\n",
              "      <th>2</th>\n",
              "      <td>i thought the application was easy to use</td>\n",
              "      <td>4</td>\n",
              "      <td>[i, the, was, to]</td>\n",
              "      <td>thought application easy use</td>\n",
              "      <td>thought application easy use</td>\n",
              "    </tr>\n",
              "    <tr>\n",
              "      <th>3</th>\n",
              "      <td>i think that i need the support of a technical...</td>\n",
              "      <td>11</td>\n",
              "      <td>[i, think, that, i, the, of, a, to, be, to, this]</td>\n",
              "      <td>need support technical person able use applica...</td>\n",
              "      <td>need support technical person able use applica...</td>\n",
              "    </tr>\n",
              "    <tr>\n",
              "      <th>4</th>\n",
              "      <td>i found the various functions in the applicati...</td>\n",
              "      <td>5</td>\n",
              "      <td>[i, the, in, the, were]</td>\n",
              "      <td>found various functions application well integ...</td>\n",
              "      <td>found various function application well integr...</td>\n",
              "    </tr>\n",
              "    <tr>\n",
              "      <th>...</th>\n",
              "      <td>...</td>\n",
              "      <td>...</td>\n",
              "      <td>...</td>\n",
              "      <td>...</td>\n",
              "      <td>...</td>\n",
              "    </tr>\n",
              "    <tr>\n",
              "      <th>884</th>\n",
              "      <td>video file adequacy</td>\n",
              "      <td>0</td>\n",
              "      <td>[]</td>\n",
              "      <td>video file adequacy</td>\n",
              "      <td>video file adequacy</td>\n",
              "    </tr>\n",
              "    <tr>\n",
              "      <th>885</th>\n",
              "      <td>image adequacy</td>\n",
              "      <td>0</td>\n",
              "      <td>[]</td>\n",
              "      <td>image adequacy</td>\n",
              "      <td>image adequacy</td>\n",
              "    </tr>\n",
              "    <tr>\n",
              "      <th>886</th>\n",
              "      <td>color adequacy</td>\n",
              "      <td>0</td>\n",
              "      <td>[]</td>\n",
              "      <td>color adequacy</td>\n",
              "      <td>color adequacy</td>\n",
              "    </tr>\n",
              "    <tr>\n",
              "      <th>887</th>\n",
              "      <td>screen sequence</td>\n",
              "      <td>0</td>\n",
              "      <td>[]</td>\n",
              "      <td>screen sequence</td>\n",
              "      <td>screen sequence</td>\n",
              "    </tr>\n",
              "    <tr>\n",
              "      <th>888</th>\n",
              "      <td>page upload speed</td>\n",
              "      <td>0</td>\n",
              "      <td>[]</td>\n",
              "      <td>page upload speed</td>\n",
              "      <td>page upload speed</td>\n",
              "    </tr>\n",
              "  </tbody>\n",
              "</table>\n",
              "<p>889 rows × 5 columns</p>\n",
              "</div>\n",
              "      <button class=\"colab-df-convert\" onclick=\"convertToInteractive('df-145bb0f0-3db8-4135-a2a6-5accb38512e4')\"\n",
              "              title=\"Convert this dataframe to an interactive table.\"\n",
              "              style=\"display:none;\">\n",
              "        \n",
              "  <svg xmlns=\"http://www.w3.org/2000/svg\" height=\"24px\"viewBox=\"0 0 24 24\"\n",
              "       width=\"24px\">\n",
              "    <path d=\"M0 0h24v24H0V0z\" fill=\"none\"/>\n",
              "    <path d=\"M18.56 5.44l.94 2.06.94-2.06 2.06-.94-2.06-.94-.94-2.06-.94 2.06-2.06.94zm-11 1L8.5 8.5l.94-2.06 2.06-.94-2.06-.94L8.5 2.5l-.94 2.06-2.06.94zm10 10l.94 2.06.94-2.06 2.06-.94-2.06-.94-.94-2.06-.94 2.06-2.06.94z\"/><path d=\"M17.41 7.96l-1.37-1.37c-.4-.4-.92-.59-1.43-.59-.52 0-1.04.2-1.43.59L10.3 9.45l-7.72 7.72c-.78.78-.78 2.05 0 2.83L4 21.41c.39.39.9.59 1.41.59.51 0 1.02-.2 1.41-.59l7.78-7.78 2.81-2.81c.8-.78.8-2.07 0-2.86zM5.41 20L4 18.59l7.72-7.72 1.47 1.35L5.41 20z\"/>\n",
              "  </svg>\n",
              "      </button>\n",
              "      \n",
              "  <style>\n",
              "    .colab-df-container {\n",
              "      display:flex;\n",
              "      flex-wrap:wrap;\n",
              "      gap: 12px;\n",
              "    }\n",
              "\n",
              "    .colab-df-convert {\n",
              "      background-color: #E8F0FE;\n",
              "      border: none;\n",
              "      border-radius: 50%;\n",
              "      cursor: pointer;\n",
              "      display: none;\n",
              "      fill: #1967D2;\n",
              "      height: 32px;\n",
              "      padding: 0 0 0 0;\n",
              "      width: 32px;\n",
              "    }\n",
              "\n",
              "    .colab-df-convert:hover {\n",
              "      background-color: #E2EBFA;\n",
              "      box-shadow: 0px 1px 2px rgba(60, 64, 67, 0.3), 0px 1px 3px 1px rgba(60, 64, 67, 0.15);\n",
              "      fill: #174EA6;\n",
              "    }\n",
              "\n",
              "    [theme=dark] .colab-df-convert {\n",
              "      background-color: #3B4455;\n",
              "      fill: #D2E3FC;\n",
              "    }\n",
              "\n",
              "    [theme=dark] .colab-df-convert:hover {\n",
              "      background-color: #434B5C;\n",
              "      box-shadow: 0px 1px 3px 1px rgba(0, 0, 0, 0.15);\n",
              "      filter: drop-shadow(0px 1px 2px rgba(0, 0, 0, 0.3));\n",
              "      fill: #FFFFFF;\n",
              "    }\n",
              "  </style>\n",
              "\n",
              "      <script>\n",
              "        const buttonEl =\n",
              "          document.querySelector('#df-145bb0f0-3db8-4135-a2a6-5accb38512e4 button.colab-df-convert');\n",
              "        buttonEl.style.display =\n",
              "          google.colab.kernel.accessAllowed ? 'block' : 'none';\n",
              "\n",
              "        async function convertToInteractive(key) {\n",
              "          const element = document.querySelector('#df-145bb0f0-3db8-4135-a2a6-5accb38512e4');\n",
              "          const dataTable =\n",
              "            await google.colab.kernel.invokeFunction('convertToInteractive',\n",
              "                                                     [key], {});\n",
              "          if (!dataTable) return;\n",
              "\n",
              "          const docLinkHtml = 'Like what you see? Visit the ' +\n",
              "            '<a target=\"_blank\" href=https://colab.research.google.com/notebooks/data_table.ipynb>data table notebook</a>'\n",
              "            + ' to learn more about interactive tables.';\n",
              "          element.innerHTML = '';\n",
              "          dataTable['output_type'] = 'display_data';\n",
              "          await google.colab.output.renderOutput(dataTable, element);\n",
              "          const docLink = document.createElement('div');\n",
              "          docLink.innerHTML = docLinkHtml;\n",
              "          element.appendChild(docLink);\n",
              "        }\n",
              "      </script>\n",
              "    </div>\n",
              "  </div>\n",
              "  "
            ]
          },
          "metadata": {},
          "execution_count": 24
        }
      ],
      "source": [
        "data"
      ]
    },
    {
      "cell_type": "code",
      "execution_count": null,
      "metadata": {
        "colab": {
          "base_uri": "https://localhost:8080/",
          "height": 424
        },
        "id": "fwuR2yVGl3ta",
        "outputId": "be2c98f4-bc37-4336-e760-b3c48247d1b6"
      },
      "outputs": [
        {
          "output_type": "execute_result",
          "data": {
            "text/plain": [
              "                                          Actual Items  number of stopwords  \\\n",
              "0    i think that i would like to use this applicat...                    8   \n",
              "1        i found the application unnecessarily complex                    2   \n",
              "2            i thought the application was easy to use                    4   \n",
              "3    i think that i need the support of a technical...                   11   \n",
              "4    i found the various functions in the applicati...                    5   \n",
              "..                                                 ...                  ...   \n",
              "884                                video file adequacy                    0   \n",
              "885                                     image adequacy                    0   \n",
              "886                                     color adequacy                    0   \n",
              "887                                    screen sequence                    0   \n",
              "888                                  page upload speed                    0   \n",
              "\n",
              "                                             stopwords  \\\n",
              "0     [i, think, that, i, would, to, this, frequently]   \n",
              "1                                             [i, the]   \n",
              "2                                    [i, the, was, to]   \n",
              "3    [i, think, that, i, the, of, a, to, be, to, this]   \n",
              "4                              [i, the, in, the, were]   \n",
              "..                                                 ...   \n",
              "884                                                 []   \n",
              "885                                                 []   \n",
              "886                                                 []   \n",
              "887                                                 []   \n",
              "888                                                 []   \n",
              "\n",
              "                                         Cleaned Items  \\\n",
              "0                                 like use application   \n",
              "1              found application unnecessarily complex   \n",
              "2                         thought application easy use   \n",
              "3    need support technical person able use applica...   \n",
              "4    found various functions application well integ...   \n",
              "..                                                 ...   \n",
              "884                                video file adequacy   \n",
              "885                                     image adequacy   \n",
              "886                                     color adequacy   \n",
              "887                                    screen sequence   \n",
              "888                                  page upload speed   \n",
              "\n",
              "                                      Lemmatized Items  \\\n",
              "0                                 like use application   \n",
              "1              found application unnecessarily complex   \n",
              "2                         thought application easy use   \n",
              "3    need support technical person able use applica...   \n",
              "4    found various function application well integr...   \n",
              "..                                                 ...   \n",
              "884                                video file adequacy   \n",
              "885                                     image adequacy   \n",
              "886                                     color adequacy   \n",
              "887                                    screen sequence   \n",
              "888                                  page upload speed   \n",
              "\n",
              "                                       Tokenized Items  \n",
              "0                             [like, use, application]  \n",
              "1         [found, application, unnecessarily, complex]  \n",
              "2                    [thought, application, easy, use]  \n",
              "3    [need, support, technical, person, able, use, ...  \n",
              "4    [found, various, function, application, well, ...  \n",
              "..                                                 ...  \n",
              "884                            [video, file, adequacy]  \n",
              "885                                  [image, adequacy]  \n",
              "886                                  [color, adequacy]  \n",
              "887                                 [screen, sequence]  \n",
              "888                              [page, upload, speed]  \n",
              "\n",
              "[889 rows x 6 columns]"
            ],
            "text/html": [
              "\n",
              "  <div id=\"df-130a4548-78bf-4f79-a9fe-d75070f82132\">\n",
              "    <div class=\"colab-df-container\">\n",
              "      <div>\n",
              "<style scoped>\n",
              "    .dataframe tbody tr th:only-of-type {\n",
              "        vertical-align: middle;\n",
              "    }\n",
              "\n",
              "    .dataframe tbody tr th {\n",
              "        vertical-align: top;\n",
              "    }\n",
              "\n",
              "    .dataframe thead th {\n",
              "        text-align: right;\n",
              "    }\n",
              "</style>\n",
              "<table border=\"1\" class=\"dataframe\">\n",
              "  <thead>\n",
              "    <tr style=\"text-align: right;\">\n",
              "      <th></th>\n",
              "      <th>Actual Items</th>\n",
              "      <th>number of stopwords</th>\n",
              "      <th>stopwords</th>\n",
              "      <th>Cleaned Items</th>\n",
              "      <th>Lemmatized Items</th>\n",
              "      <th>Tokenized Items</th>\n",
              "    </tr>\n",
              "  </thead>\n",
              "  <tbody>\n",
              "    <tr>\n",
              "      <th>0</th>\n",
              "      <td>i think that i would like to use this applicat...</td>\n",
              "      <td>8</td>\n",
              "      <td>[i, think, that, i, would, to, this, frequently]</td>\n",
              "      <td>like use application</td>\n",
              "      <td>like use application</td>\n",
              "      <td>[like, use, application]</td>\n",
              "    </tr>\n",
              "    <tr>\n",
              "      <th>1</th>\n",
              "      <td>i found the application unnecessarily complex</td>\n",
              "      <td>2</td>\n",
              "      <td>[i, the]</td>\n",
              "      <td>found application unnecessarily complex</td>\n",
              "      <td>found application unnecessarily complex</td>\n",
              "      <td>[found, application, unnecessarily, complex]</td>\n",
              "    </tr>\n",
              "    <tr>\n",
              "      <th>2</th>\n",
              "      <td>i thought the application was easy to use</td>\n",
              "      <td>4</td>\n",
              "      <td>[i, the, was, to]</td>\n",
              "      <td>thought application easy use</td>\n",
              "      <td>thought application easy use</td>\n",
              "      <td>[thought, application, easy, use]</td>\n",
              "    </tr>\n",
              "    <tr>\n",
              "      <th>3</th>\n",
              "      <td>i think that i need the support of a technical...</td>\n",
              "      <td>11</td>\n",
              "      <td>[i, think, that, i, the, of, a, to, be, to, this]</td>\n",
              "      <td>need support technical person able use applica...</td>\n",
              "      <td>need support technical person able use applica...</td>\n",
              "      <td>[need, support, technical, person, able, use, ...</td>\n",
              "    </tr>\n",
              "    <tr>\n",
              "      <th>4</th>\n",
              "      <td>i found the various functions in the applicati...</td>\n",
              "      <td>5</td>\n",
              "      <td>[i, the, in, the, were]</td>\n",
              "      <td>found various functions application well integ...</td>\n",
              "      <td>found various function application well integr...</td>\n",
              "      <td>[found, various, function, application, well, ...</td>\n",
              "    </tr>\n",
              "    <tr>\n",
              "      <th>...</th>\n",
              "      <td>...</td>\n",
              "      <td>...</td>\n",
              "      <td>...</td>\n",
              "      <td>...</td>\n",
              "      <td>...</td>\n",
              "      <td>...</td>\n",
              "    </tr>\n",
              "    <tr>\n",
              "      <th>884</th>\n",
              "      <td>video file adequacy</td>\n",
              "      <td>0</td>\n",
              "      <td>[]</td>\n",
              "      <td>video file adequacy</td>\n",
              "      <td>video file adequacy</td>\n",
              "      <td>[video, file, adequacy]</td>\n",
              "    </tr>\n",
              "    <tr>\n",
              "      <th>885</th>\n",
              "      <td>image adequacy</td>\n",
              "      <td>0</td>\n",
              "      <td>[]</td>\n",
              "      <td>image adequacy</td>\n",
              "      <td>image adequacy</td>\n",
              "      <td>[image, adequacy]</td>\n",
              "    </tr>\n",
              "    <tr>\n",
              "      <th>886</th>\n",
              "      <td>color adequacy</td>\n",
              "      <td>0</td>\n",
              "      <td>[]</td>\n",
              "      <td>color adequacy</td>\n",
              "      <td>color adequacy</td>\n",
              "      <td>[color, adequacy]</td>\n",
              "    </tr>\n",
              "    <tr>\n",
              "      <th>887</th>\n",
              "      <td>screen sequence</td>\n",
              "      <td>0</td>\n",
              "      <td>[]</td>\n",
              "      <td>screen sequence</td>\n",
              "      <td>screen sequence</td>\n",
              "      <td>[screen, sequence]</td>\n",
              "    </tr>\n",
              "    <tr>\n",
              "      <th>888</th>\n",
              "      <td>page upload speed</td>\n",
              "      <td>0</td>\n",
              "      <td>[]</td>\n",
              "      <td>page upload speed</td>\n",
              "      <td>page upload speed</td>\n",
              "      <td>[page, upload, speed]</td>\n",
              "    </tr>\n",
              "  </tbody>\n",
              "</table>\n",
              "<p>889 rows × 6 columns</p>\n",
              "</div>\n",
              "      <button class=\"colab-df-convert\" onclick=\"convertToInteractive('df-130a4548-78bf-4f79-a9fe-d75070f82132')\"\n",
              "              title=\"Convert this dataframe to an interactive table.\"\n",
              "              style=\"display:none;\">\n",
              "        \n",
              "  <svg xmlns=\"http://www.w3.org/2000/svg\" height=\"24px\"viewBox=\"0 0 24 24\"\n",
              "       width=\"24px\">\n",
              "    <path d=\"M0 0h24v24H0V0z\" fill=\"none\"/>\n",
              "    <path d=\"M18.56 5.44l.94 2.06.94-2.06 2.06-.94-2.06-.94-.94-2.06-.94 2.06-2.06.94zm-11 1L8.5 8.5l.94-2.06 2.06-.94-2.06-.94L8.5 2.5l-.94 2.06-2.06.94zm10 10l.94 2.06.94-2.06 2.06-.94-2.06-.94-.94-2.06-.94 2.06-2.06.94z\"/><path d=\"M17.41 7.96l-1.37-1.37c-.4-.4-.92-.59-1.43-.59-.52 0-1.04.2-1.43.59L10.3 9.45l-7.72 7.72c-.78.78-.78 2.05 0 2.83L4 21.41c.39.39.9.59 1.41.59.51 0 1.02-.2 1.41-.59l7.78-7.78 2.81-2.81c.8-.78.8-2.07 0-2.86zM5.41 20L4 18.59l7.72-7.72 1.47 1.35L5.41 20z\"/>\n",
              "  </svg>\n",
              "      </button>\n",
              "      \n",
              "  <style>\n",
              "    .colab-df-container {\n",
              "      display:flex;\n",
              "      flex-wrap:wrap;\n",
              "      gap: 12px;\n",
              "    }\n",
              "\n",
              "    .colab-df-convert {\n",
              "      background-color: #E8F0FE;\n",
              "      border: none;\n",
              "      border-radius: 50%;\n",
              "      cursor: pointer;\n",
              "      display: none;\n",
              "      fill: #1967D2;\n",
              "      height: 32px;\n",
              "      padding: 0 0 0 0;\n",
              "      width: 32px;\n",
              "    }\n",
              "\n",
              "    .colab-df-convert:hover {\n",
              "      background-color: #E2EBFA;\n",
              "      box-shadow: 0px 1px 2px rgba(60, 64, 67, 0.3), 0px 1px 3px 1px rgba(60, 64, 67, 0.15);\n",
              "      fill: #174EA6;\n",
              "    }\n",
              "\n",
              "    [theme=dark] .colab-df-convert {\n",
              "      background-color: #3B4455;\n",
              "      fill: #D2E3FC;\n",
              "    }\n",
              "\n",
              "    [theme=dark] .colab-df-convert:hover {\n",
              "      background-color: #434B5C;\n",
              "      box-shadow: 0px 1px 3px 1px rgba(0, 0, 0, 0.15);\n",
              "      filter: drop-shadow(0px 1px 2px rgba(0, 0, 0, 0.3));\n",
              "      fill: #FFFFFF;\n",
              "    }\n",
              "  </style>\n",
              "\n",
              "      <script>\n",
              "        const buttonEl =\n",
              "          document.querySelector('#df-130a4548-78bf-4f79-a9fe-d75070f82132 button.colab-df-convert');\n",
              "        buttonEl.style.display =\n",
              "          google.colab.kernel.accessAllowed ? 'block' : 'none';\n",
              "\n",
              "        async function convertToInteractive(key) {\n",
              "          const element = document.querySelector('#df-130a4548-78bf-4f79-a9fe-d75070f82132');\n",
              "          const dataTable =\n",
              "            await google.colab.kernel.invokeFunction('convertToInteractive',\n",
              "                                                     [key], {});\n",
              "          if (!dataTable) return;\n",
              "\n",
              "          const docLinkHtml = 'Like what you see? Visit the ' +\n",
              "            '<a target=\"_blank\" href=https://colab.research.google.com/notebooks/data_table.ipynb>data table notebook</a>'\n",
              "            + ' to learn more about interactive tables.';\n",
              "          element.innerHTML = '';\n",
              "          dataTable['output_type'] = 'display_data';\n",
              "          await google.colab.output.renderOutput(dataTable, element);\n",
              "          const docLink = document.createElement('div');\n",
              "          docLink.innerHTML = docLinkHtml;\n",
              "          element.appendChild(docLink);\n",
              "        }\n",
              "      </script>\n",
              "    </div>\n",
              "  </div>\n",
              "  "
            ]
          },
          "metadata": {},
          "execution_count": 16
        }
      ],
      "source": [
        "#tokenize items and save to a new column\n",
        "data['Tokenized Items'] = data['Lemmatized Items'].apply(nltk.word_tokenize)\n",
        "data"
      ]
    },
    {
      "cell_type": "markdown",
      "metadata": {
        "id": "Lw21erj8JozD"
      },
      "source": [
        "Basic data processing is completed, moving on to Word2Vec"
      ]
    },
    {
      "cell_type": "code",
      "execution_count": null,
      "metadata": {
        "colab": {
          "base_uri": "https://localhost:8080/"
        },
        "id": "28JSJ0Y6aUeQ",
        "outputId": "f45c3300-631b-4b4a-8faa-8834b2692788"
      },
      "outputs": [
        {
          "output_type": "stream",
          "name": "stdout",
          "text": [
            "Looking in indexes: https://pypi.org/simple, https://us-python.pkg.dev/colab-wheels/public/simple/\n",
            "Requirement already satisfied: gensim in /usr/local/lib/python3.8/dist-packages (3.6.0)\n",
            "Requirement already satisfied: numpy>=1.11.3 in /usr/local/lib/python3.8/dist-packages (from gensim) (1.21.6)\n",
            "Requirement already satisfied: smart-open>=1.2.1 in /usr/local/lib/python3.8/dist-packages (from gensim) (5.2.1)\n",
            "Requirement already satisfied: scipy>=0.18.1 in /usr/local/lib/python3.8/dist-packages (from gensim) (1.7.3)\n",
            "Requirement already satisfied: six>=1.5.0 in /usr/local/lib/python3.8/dist-packages (from gensim) (1.15.0)\n"
          ]
        }
      ],
      "source": [
        "!pip install gensim"
      ]
    },
    {
      "cell_type": "code",
      "source": [
        "#vectorize Lemmatized Items\n",
        "from gensim.models import Word2Vec\n",
        "\n",
        "#token_list = data['Tokenized Items'].values\n",
        "token_list = data['Lemmatized Items'].apply(nltk.word_tokenize).values \n",
        "\n",
        "import gensim.downloader\n",
        "from pprint import pprint # pretty print \n",
        "pprint(list(gensim.downloader.info()['models'].keys())) #these are all the list of pre-trained wored embeddings available \n",
        "\n",
        "vectorizer = gensim.downloader.load('glove-wiki-gigaword-100') \n",
        "# let's use the gensim vectorization trained with gigaword with the dimension of 50\n",
        "# in order to use this vectorizer (or locate the vector for a particular token ==> vectorizer['TOKEN'] )\n",
        "\n",
        "sentence_vectors = []\n",
        "for sentence in token_list: \n",
        "  v = []\n",
        "  for word in sentence:\n",
        "    try: \n",
        "      v.append(vectorizer[word])\n",
        "    except:\n",
        "      v.append(np.zeros(100,)) # this should change to the number that matches your final embedding size \n",
        "  sentence_vectors.append(v)\n",
        "\n",
        "len(sentence_vectors)\n",
        "sentence_vectors = [np.mean(k, axis=0) for k in sentence_vectors]"
      ],
      "metadata": {
        "colab": {
          "base_uri": "https://localhost:8080/"
        },
        "id": "OGh9A_yL4mmV",
        "outputId": "83377b75-cd7f-47ad-8c50-ab0d21d13db9"
      },
      "execution_count": null,
      "outputs": [
        {
          "output_type": "stream",
          "name": "stdout",
          "text": [
            "['fasttext-wiki-news-subwords-300',\n",
            " 'conceptnet-numberbatch-17-06-300',\n",
            " 'word2vec-ruscorpora-300',\n",
            " 'word2vec-google-news-300',\n",
            " 'glove-wiki-gigaword-50',\n",
            " 'glove-wiki-gigaword-100',\n",
            " 'glove-wiki-gigaword-200',\n",
            " 'glove-wiki-gigaword-300',\n",
            " 'glove-twitter-25',\n",
            " 'glove-twitter-50',\n",
            " 'glove-twitter-100',\n",
            " 'glove-twitter-200',\n",
            " '__testing_word2vec-matrix-synopsis']\n",
            "[==================================================] 100.0% 128.1/128.1MB downloaded\n"
          ]
        }
      ]
    },
    {
      "cell_type": "code",
      "source": [
        "from sklearn.cluster import KMeans\n",
        "from sklearn.metrics import silhouette_score\n",
        "import matplotlib.pyplot as plt\n",
        "Sum_of_squared_distances = []\n",
        "silhouette_avg = []#1 IS GOOD 0 IS BAD \n",
        "\n",
        "range_n_clusters = list(range(2,30))\n",
        "for num_clusters in range_n_clusters:\n",
        "    # initialise kmeans\n",
        "    kmeans = KMeans(n_clusters=num_clusters,\n",
        "           ).fit(sentence_vectors)\n",
        "   \n",
        "    # sum of squared distances\n",
        "    Sum_of_squared_distances.append(kmeans.inertia_)\n",
        "    # silhouette score\n",
        "    cluster_labels = kmeans.labels_\n",
        "    silhouette_avg.append(silhouette_score(sentence_vectors, cluster_labels))\n",
        "\n",
        "plt.plot(range_n_clusters,Sum_of_squared_distances,'bx-')\n",
        "plt.xlabel('Values of K') \n",
        "plt.ylabel('Sum of squared distances/Inertia') \n",
        "plt.title('Elbow Method For Optimal k')\n",
        "plt.show()\n",
        "\n",
        "plt.plot(range_n_clusters,silhouette_avg ,'bx-')\n",
        "plt.xlabel('Values of K')\n",
        "plt.ylabel('Sum of squared distances/Inertia')\n",
        "plt.title('Elbow Method For Optimal k')\n",
        "plt.show()"
      ],
      "metadata": {
        "colab": {
          "base_uri": "https://localhost:8080/",
          "height": 573
        },
        "id": "AdVRFItY5k06",
        "outputId": "9640b6ff-fd33-4940-c10f-c32d4ff4da45"
      },
      "execution_count": null,
      "outputs": [
        {
          "output_type": "display_data",
          "data": {
            "text/plain": [
              "<Figure size 432x288 with 1 Axes>"
            ],
            "image/png": "[encoded data removed]"
          },
          "metadata": {
            "needs_background": "light"
          }
        },
        {
          "output_type": "display_data",
          "data": {
            "text/plain": [
              "<Figure size 432x288 with 1 Axes>"
            ],
            "image/png": "[encoded data removed]"
          },
          "metadata": {
            "needs_background": "light"
          }
        }
      ]
    },
    {
      "cell_type": "code",
      "source": [
        "#report data when k = 7\n",
        "kmeans = KMeans(n_clusters=7,\n",
        "           ).fit(sentence_vectors)\n",
        "cluster_labels = kmeans.labels_\n",
        "\n",
        "data['label'] = cluster_labels \n",
        "\n",
        "#display  the value of \n",
        "#pd.set_option('max_colwidth', 100)\n",
        "\n",
        "from collections import Counter\n",
        "print(Counter(data.label))\n",
        "data[data.label==1]['Lemmatized Items']"
      ],
      "metadata": {
        "colab": {
          "base_uri": "https://localhost:8080/"
        },
        "id": "B1hSezFV5uIe",
        "outputId": "b4b7cf21-e76e-420c-a59e-8dcf5aba0d17"
      },
      "execution_count": null,
      "outputs": [
        {
          "output_type": "stream",
          "name": "stdout",
          "text": [
            "Counter({0: 182, 6: 134, 1: 129, 5: 126, 4: 125, 3: 105, 2: 88})\n"
          ]
        },
        {
          "output_type": "execute_result",
          "data": {
            "text/plain": [
              "5                 thought much inconsistency application\n",
              "6           imagine people learn use application quickly\n",
              "8                       felt confident using application\n",
              "10                                    practicing way fun\n",
              "12                      felt engaged learning practicing\n",
              "                             ...                        \n",
              "816           able learn utilize tui application quickly\n",
              "825    critical error encountered stopped completing ...\n",
              "848                student always know moment simulation\n",
              "872    use simulation easily retained student memory ...\n",
              "878                                    encouragement use\n",
              "Name: Lemmatized Items, Length: 129, dtype: object"
            ]
          },
          "metadata": {},
          "execution_count": 26
        }
      ]
    },
    {
      "cell_type": "code",
      "source": [
        "#save cluster0 as csv\n",
        "#data[data.label==0]['Lemmatized Items'].to_csv('/content/drive/MyDrive/Colab Notebooks/HW/data/newcluster0.csv',index=False)"
      ],
      "metadata": {
        "id": "b58mHu4R5ze6"
      },
      "execution_count": null,
      "outputs": []
    },
    {
      "cell_type": "code",
      "source": [
        "#Populate clusters into different sheets in one excel file\n",
        "with pd.ExcelWriter('/content/drive/MyDrive/Colab Notebooks/HW/data/nestedclusters.xlsx') as writer:\n",
        " for i in range(0,7):\n",
        "  data[data.label==i]['Lemmatized Items'].to_excel(writer, sheet_name='cluster'+str(i))"
      ],
      "metadata": {
        "id": "mR8KOJdt5zY7"
      },
      "execution_count": null,
      "outputs": []
    },
    {
      "cell_type": "code",
      "execution_count": null,
      "metadata": {
        "id": "oFD5DA7HTzHA",
        "colab": {
          "base_uri": "https://localhost:8080/"
        },
        "outputId": "2fba2d4c-a33a-4db1-b95f-fa115836ac03"
      },
      "outputs": [
        {
          "output_type": "stream",
          "name": "stdout",
          "text": [
            "['fasttext-wiki-news-subwords-300',\n",
            " 'conceptnet-numberbatch-17-06-300',\n",
            " 'word2vec-ruscorpora-300',\n",
            " 'word2vec-google-news-300',\n",
            " 'glove-wiki-gigaword-50',\n",
            " 'glove-wiki-gigaword-100',\n",
            " 'glove-wiki-gigaword-200',\n",
            " 'glove-wiki-gigaword-300',\n",
            " 'glove-twitter-25',\n",
            " 'glove-twitter-50',\n",
            " 'glove-twitter-100',\n",
            " 'glove-twitter-200',\n",
            " '__testing_word2vec-matrix-synopsis']\n"
          ]
        }
      ],
      "source": [
        "#vectorize original items\n",
        "from gensim.models import Word2Vec\n",
        "\n",
        "#token_list = data['Tokenized Items'].values\n",
        "token_list = data['Actual Items'].apply(nltk.word_tokenize).values \n",
        "\n",
        "import gensim.downloader\n",
        "from pprint import pprint # pretty print \n",
        "pprint(list(gensim.downloader.info()['models'].keys())) #these are all the list of pre-trained wored embeddings available \n",
        "\n",
        "vectorizer = gensim.downloader.load('glove-wiki-gigaword-100') \n",
        "# let's use the gensim vectorization trained with gigaword with the dimension of 50\n",
        "# in order to use this vectorizer (or locate the vector for a particular token ==> vectorizer['TOKEN'] )\n",
        "\n",
        "sentence_vectors = []\n",
        "for sentence in token_list: \n",
        "  v = []\n",
        "  for word in sentence:\n",
        "    try: \n",
        "      v.append(vectorizer[word])\n",
        "    except:\n",
        "      v.append(np.zeros(100,)) # this should change to the number that matches your final embedding size \n",
        "  sentence_vectors.append(v)\n",
        "\n",
        "len(sentence_vectors)\n",
        "sentence_vectors = [np.mean(k, axis=0) for k in sentence_vectors]\n"
      ]
    },
    {
      "cell_type": "markdown",
      "metadata": {
        "id": "Ur_QVluM2hWr"
      },
      "source": [
        "Moving on to k-means clustering"
      ]
    },
    {
      "cell_type": "code",
      "execution_count": null,
      "metadata": {
        "colab": {
          "base_uri": "https://localhost:8080/",
          "height": 573
        },
        "id": "fjWURoNzV4BH",
        "outputId": "9f1dbe73-b597-4504-f67c-0780501215c9"
      },
      "outputs": [
        {
          "output_type": "display_data",
          "data": {
            "text/plain": [
              "<Figure size 432x288 with 1 Axes>"
            ],
            "image/png": "[encoded data removed]"
          },
          "metadata": {
            "needs_background": "light"
          }
        },
        {
          "output_type": "display_data",
          "data": {
            "text/plain": [
              "<Figure size 432x288 with 1 Axes>"
            ],
            "image/png": "[encoded data removed]"
          },
          "metadata": {
            "needs_background": "light"
          }
        }
      ],
      "source": [
        "from sklearn.cluster import KMeans\n",
        "from sklearn.metrics import silhouette_score\n",
        "import matplotlib.pyplot as plt\n",
        "Sum_of_squared_distances = []\n",
        "silhouette_avg = []#1 IS GOOD 0 IS BAD \n",
        "\n",
        "range_n_clusters = list(range(2,30))\n",
        "for num_clusters in range_n_clusters:\n",
        "    # initialise kmeans\n",
        "    kmeans = KMeans(n_clusters=num_clusters,\n",
        "           ).fit(sentence_vectors)\n",
        "   \n",
        "    # sum of squared distances\n",
        "    Sum_of_squared_distances.append(kmeans.inertia_)\n",
        "    # silhouette score\n",
        "    cluster_labels = kmeans.labels_\n",
        "    silhouette_avg.append(silhouette_score(sentence_vectors, cluster_labels))\n",
        "\n",
        "plt.plot(range_n_clusters,Sum_of_squared_distances,'bx-')\n",
        "plt.xlabel('Values of K') \n",
        "plt.ylabel('Sum of squared distances/Inertia') \n",
        "plt.title('Elbow Method For Optimal k')\n",
        "plt.show()\n",
        "\n",
        "plt.plot(range_n_clusters,silhouette_avg ,'bx-')\n",
        "plt.xlabel('Values of K')\n",
        "plt.ylabel('Sum of squared distances/Inertia')\n",
        "plt.title('Elbow Method For Optimal k')\n",
        "plt.show()"
      ]
    },
    {
      "cell_type": "code",
      "source": [
        "#report data when k = 5\n",
        "kmeans = KMeans(n_clusters=5,\n",
        "           ).fit(sentence_vectors)\n",
        "cluster_labels = kmeans.labels_\n",
        "\n",
        "data['label'] = cluster_labels \n",
        "\n",
        "#display  the value of \n",
        "#pd.set_option('max_colwidth', 100)\n",
        "\n",
        "from collections import Counter\n",
        "print(Counter(data.label))\n",
        "data[data.label==2]['Actual Items']"
      ],
      "metadata": {
        "colab": {
          "base_uri": "https://localhost:8080/"
        },
        "id": "-sdRZ7U4EwBs",
        "outputId": "8286b0b5-9be9-4cf9-a702-d95435719a13"
      },
      "execution_count": null,
      "outputs": [
        {
          "output_type": "stream",
          "name": "stdout",
          "text": [
            "Counter({1: 258, 2: 226, 4: 199, 0: 174, 3: 32})\n"
          ]
        },
        {
          "output_type": "execute_result",
          "data": {
            "text/plain": [
              "7            i found the application very awkward to use\n",
              "19     i will be more likely to practice catheter ins...\n",
              "21       it was easy to concentrate on aseptic technique\n",
              "35     i think that i would need the support of a tec...\n",
              "39     i found the mobile ar application very cumbers...\n",
              "                             ...                        \n",
              "870                        the simulation is easy to use\n",
              "872    use of the simulation is easily retained in th...\n",
              "873    the structure is broad and students with avera...\n",
              "874    the simulation is indicated to be used as an e...\n",
              "878                                 encouragement to use\n",
              "Name: Actual Items, Length: 226, dtype: object"
            ]
          },
          "metadata": {},
          "execution_count": 30
        }
      ]
    },
    {
      "cell_type": "code",
      "source": [
        "#save cluster0 as csv\n",
        "data[data.label==0]['Actual Items'].to_csv('/content/drive/MyDrive/Colab Notebooks/HW/data/cluster0.csv',index=False)"
      ],
      "metadata": {
        "id": "JI099lA2NvcM"
      },
      "execution_count": null,
      "outputs": []
    },
    {
      "cell_type": "code",
      "source": [
        "#save cluster1-4 as csv files\n",
        "data[data.label==1]['Actual Items'].to_csv('/content/drive/MyDrive/Colab Notebooks/HW/data/cluster1.csv',index=False)\n",
        "data[data.label==2]['Actual Items'].to_csv('/content/drive/MyDrive/Colab Notebooks/HW/data/cluster2.csv',index=False)\n",
        "data[data.label==3]['Actual Items'].to_csv('/content/drive/MyDrive/Colab Notebooks/HW/data/cluster3.csv',index=False)\n",
        "data[data.label==4]['Actual Items'].to_csv('/content/drive/MyDrive/Colab Notebooks/HW/data/cluster4.csv',index=False)"
      ],
      "metadata": {
        "id": "abtX62POOSwG"
      },
      "execution_count": null,
      "outputs": []
    },
    {
      "cell_type": "code",
      "execution_count": null,
      "metadata": {
        "id": "vXGXS5NcTQS3",
        "colab": {
          "base_uri": "https://localhost:8080/"
        },
        "outputId": "124d4baa-954c-44f9-cdbc-a0630291f822"
      },
      "outputs": [
        {
          "output_type": "stream",
          "name": "stdout",
          "text": [
            "Counter({6: 161, 4: 153, 7: 134, 9: 96, 2: 93, 8: 84, 3: 69, 0: 40, 1: 37, 5: 22})\n"
          ]
        },
        {
          "output_type": "execute_result",
          "data": {
            "text/plain": [
              "88                            screen was not legible because of outdoor ambient light reflection or glare \n",
              "98                                  the quality of computergenerated graphics contents was very realistic \n",
              "99                           the quality of computergenerated graphics contents influenced my performance \n",
              "164    the images included in this learning material eg backgrounds of the menu of the opening display ...\n",
              "168    the images and sounds of the learning material have a textual alternative definition images have...\n",
              "228                                                                   uses aesthetic and minimalist design\n",
              "231                                  the uses of text color and font follow the principles\\nof readability\n",
              "249                                                         clear and understandable structure of contents\n",
              "263                                                            usage of multimedia elements are acceptable\n",
              "264                                                        combination of multimedia elements are adequate\n",
              "265                                                the presentation of multimedia elements are well manage\n",
              "269             the quality of multimedia elements text image animation video and sound used is acceptable\n",
              "323                                                       screen layout is efficient and visually pleasing\n",
              "350                                                  the visual layout of the cata mapp attracts attention\n",
              "375    visual eg interface photographs and color content included in the cata mapp helps to clarify or ...\n",
              "443                                                  the icons and buttons are attractive and recognizable\n",
              "444                                                              the color scheme of buttons is attractive\n",
              "460                                                                               text block writing style\n",
              "461                                                                         quantity choice  writing style\n",
              "464                                                                       size of teaching material button\n",
              "493                                                                 course structure is clearly visualized\n",
              "538                                                                animations and graphics are interesting\n",
              "540                                                                          icons used are understandable\n",
              "568        the format of content colours fonts font sizes drawings    used in the learning objects is good\n",
              "586        abstract concepts principles formulas rules etc are illustrated with concrete specific examples\n",
              "589                    fonts style color saturation are easy to read in both onscreen and printed versions\n",
              "595                                                          the course incorporates novel characteristics\n",
              "606                                                                        aesthetic and minimalist design\n",
              "620                                                                                write in plain language\n",
              "622                                                                    display content clearly on the page\n",
              "670                     edventure is presented with distracting animated graphics or navigational elements\n",
              "686                                                                            the sketch tool was useful \n",
              "687                                                              other features undoredo zoom were useful \n",
              "735                                         graphics and icons of this program are appropriately displayed\n",
              "780                                                        all icons on the otels are visually distinctive\n",
              "802              abstract concepts eg formulas are illustrated with concrete examples throughout the otels\n",
              "840                                                                    the material simulates reality well\n",
              "857                                                           the fonts are of appropriate size and style \n",
              "861                                                          text image graphic and video quality are good\n",
              "863                                                         image use strongly supported the text provided\n",
              "Name: Actual Items, dtype: object"
            ]
          },
          "metadata": {},
          "execution_count": 71
        }
      ],
      "source": [
        "#report data when k = 10\n",
        "kmeans = KMeans(n_clusters=10,\n",
        "           ).fit(sentence_vectors)\n",
        "cluster_labels = kmeans.labels_\n",
        "\n",
        "data['label'] = cluster_labels \n",
        "\n",
        "from collections import Counter\n",
        "print(Counter(data.label))\n",
        "data[data.label==0]['Actual Items']"
      ]
    },
    {
      "cell_type": "code",
      "source": [
        "data[data.label==0]['Actual Items'].to_csv('/content/drive/MyDrive/Colab Notebooks/HW/data/cluster0.csv',index=False)\n",
        "data[data.label==1]['Actual Items'].to_csv('/content/drive/MyDrive/Colab Notebooks/HW/data/cluster1.csv',index=False)\n",
        "data[data.label==2]['Actual Items'].to_csv('/content/drive/MyDrive/Colab Notebooks/HW/data/cluster2.csv',index=False)\n",
        "data[data.label==3]['Actual Items'].to_csv('/content/drive/MyDrive/Colab Notebooks/HW/data/cluster3.csv',index=False)\n",
        "data[data.label==4]['Actual Items'].to_csv('/content/drive/MyDrive/Colab Notebooks/HW/data/cluster4.csv',index=False)\n",
        "data[data.label==5]['Actual Items'].to_csv('/content/drive/MyDrive/Colab Notebooks/HW/data/cluster5.csv',index=False)\n",
        "data[data.label==6]['Actual Items'].to_csv('/content/drive/MyDrive/Colab Notebooks/HW/data/cluster6.csv',index=False)\n",
        "data[data.label==7]['Actual Items'].to_csv('/content/drive/MyDrive/Colab Notebooks/HW/data/cluster7.csv',index=False)\n",
        "data[data.label==8]['Actual Items'].to_csv('/content/drive/MyDrive/Colab Notebooks/HW/data/cluster8.csv',index=False)\n",
        "data[data.label==9]['Actual Items'].to_csv('/content/drive/MyDrive/Colab Notebooks/HW/data/cluster9.csv',index=False)"
      ],
      "metadata": {
        "id": "XrD4uKpiko9R"
      },
      "execution_count": null,
      "outputs": []
    },
    {
      "cell_type": "code",
      "execution_count": null,
      "metadata": {
        "colab": {
          "base_uri": "https://localhost:8080/"
        },
        "outputId": "881e2ea4-88b0-45ef-8a8e-299ac108d5c7",
        "id": "XtXc09e7D-AB"
      },
      "outputs": [
        {
          "output_type": "stream",
          "name": "stdout",
          "text": [
            "Counter({17: 115, 5: 97, 13: 92, 4: 75, 6: 68, 0: 64, 1: 57, 16: 57, 3: 44, 8: 41, 14: 39, 2: 39, 10: 37, 7: 34, 12: 14, 11: 11, 9: 4, 15: 1})\n"
          ]
        },
        {
          "output_type": "execute_result",
          "data": {
            "text/plain": [
              "13     using this technology motivated me to keep pra...\n",
              "21       it was easy to concentrate on aseptic technique\n",
              "61               help students learn the course material\n",
              "71     the effect of my interaction was easy to predict \n",
              "77       accurate pointing with gaze was easy to achieve\n",
              "                             ...                        \n",
              "777         the otels does not require much time to load\n",
              "784    menu titles are brief yet long enough to commu...\n",
              "816    i was able to learn to utilize the tui applica...\n",
              "826    i am satisfied with the ease of learning to us...\n",
              "846    the simulation presents students with question...\n",
              "Name: Actual Items, Length: 115, dtype: object"
            ]
          },
          "metadata": {},
          "execution_count": 37
        }
      ],
      "source": [
        "#report data when k = 18 but show cluster 17\n",
        "kmeans = KMeans(n_clusters=18,\n",
        "           ).fit(sentence_vectors)\n",
        "cluster_labels = kmeans.labels_\n",
        "\n",
        "data['label'] = cluster_labels \n",
        "\n",
        "from collections import Counter\n",
        "print(Counter(data.label))\n",
        "data[data.label==17]['Actual Items']"
      ]
    },
    {
      "cell_type": "code",
      "execution_count": null,
      "metadata": {
        "colab": {
          "base_uri": "https://localhost:8080/",
          "height": 504
        },
        "id": "tQSS3f8AlUIU",
        "outputId": "321dfc0c-3efb-4407-b29d-ff951bddb955"
      },
      "outputs": [
        {
          "output_type": "display_data",
          "data": {
            "text/plain": [
              "<Figure size 576x288 with 1 Axes>"
            ],
            "image/png": "[encoded data removed]"
          },
          "metadata": {}
        },
        {
          "output_type": "execute_result",
          "data": {
            "text/plain": [
              "Counter({2: 677,\n",
              "         5: 143,\n",
              "         8: 5,\n",
              "         9: 1,\n",
              "         0: 43,\n",
              "         4: 4,\n",
              "         3: 7,\n",
              "         6: 1,\n",
              "         1: 5,\n",
              "         11: 1,\n",
              "         7: 1,\n",
              "         10: 1})"
            ]
          },
          "metadata": {},
          "execution_count": 31
        }
      ],
      "source": [
        "import matplotlib.pyplot as plt # this is to plot our results \n",
        "from scipy.cluster.hierarchy import dendrogram, linkage # this is to define a linkage method\n",
        "from sklearn.cluster import AgglomerativeClustering\n",
        "\n",
        "%matplotlib inline\n",
        "plt.style.use('seaborn-whitegrid')\n",
        "plt.figure(figsize=(8, 4))\n",
        "\n",
        "################ Let's define a linkage method \n",
        "\n",
        "\n",
        "Z = linkage(sentence_vectors, 'complete') \n",
        "\n",
        "dendrogram(Z, truncate_mode='lastp', p=12, leaf_rotation=-45.,\n",
        "           leaf_font_size=12., show_contracted=True)\n",
        "\n",
        "plt.xlabel('Cluster Size', fontsize=12)\n",
        "plt.ylabel('Distance', fontsize=12)\n",
        "plt.axhline(y=30, linestyle='dashed')\n",
        "plt.axhline(y=10, linestyle='dotted')\n",
        "plt.show()\n",
        "\n",
        "cluster = AgglomerativeClustering(n_clusters=12, \n",
        "                                  affinity='euclidean', \n",
        "                                  linkage= 'complete') #FIT AND LEARN MODEL \n",
        "ac_labels = cluster.fit_predict(sentence_vectors)\n",
        "\n",
        "from collections import Counter\n",
        "Counter(ac_labels)\n",
        "\n"
      ]
    },
    {
      "cell_type": "markdown",
      "metadata": {
        "id": "b1e7Gt-BIhWL"
      },
      "source": [
        "#### 4. Preliminary Results\n",
        "\n",
        "> Multiple analyses were conducted, as demonstrated in section 4.2. For example, k-means clustering was applied to the original, unprocess data and the processed data. Results were extracted at different values of k, such as k=5 and k=10, after running the algorithm on the original data. \n",
        "\n",
        ">When outputing five clusters, the following topics emerged:\n",
        ">1. Visual Design & Aesthetics\n",
        "2. Perceived Usefulness and Pedagogical Strategies\n",
        "3. System Learnability\n",
        "4. Functionality\n",
        "5. System Ease-of-use\n",
        "\n",
        ">When outputing ten clusters, the following topics emerged with duplicates:\n",
        ">1. Visual Design & Aesthetics\n",
        "2. System Usefulness\n",
        "3. Learnability & Functionality\n",
        "4. System Usefulness\n",
        "5. Visual Design & Accessibility\n",
        "6. Functionality\n",
        "7. Satisfaction\n",
        "8. System Ease-of-use\n",
        "9. Learnability and System Usefulness\n",
        "10. Pedagogical Strategies & Instructional Design\n"
      ]
    },
    {
      "cell_type": "markdown",
      "metadata": {
        "id": "gHRLxsDAIlCr"
      },
      "source": [
        "#### 5. Discussion and Future Directions\n",
        "\n",
        "> Although the elbow method indicated that five clusters should be considered as primary results, it made more sense when ten clusters were extracted. Having duplicate topics from the ten clusters should not be viewed as a surprise, instead, it can be interpreted as the degree to which the focus on the duplicate topics were made in existing usability instruments. For example, the topic \"System Usefulness\" appeared one time when five clusters were outputed and three times when ten clusters were extracted, meaning that this one aspect of usability has been substantially emphasized when instruments were designed and developed. This preliminary finding is consistent with findings from the systematic literature review conducted by colleagues and myself. Out of the 15 topics derived from two rounds of analyses, it is obvious that the focus of usability instuments was put on technical performance of a given technology or system. \n",
        "\n",
        ">Using the unsupervised learning algorithm, K-means Clustering, seems to produce promising results in helping retrieve topics of items in existing usability instruments that have been applied to learning technologies. However, with the total number of items in the data set, it is difficult to derive topics when a cluster contains more than 200 items. Additionally, not all items organized in one cluster belong to the topic(s) derived. \n",
        "\n",
        ">Future directions include applying k-means clustering to the full data set (including more instruments), as preliminary findings seem promising in unveiling topics (foci) of usability assessed by existing instruments used in LDT. Furthermore, different models such as the Latent Dirichlet Allocation (LDA)and supervised learning techniques may be used to compare results."
      ]
    }
  ],
  "metadata": {
    "colab": {
      "provenance": []
    },
    "kernelspec": {
      "display_name": "Python 3",
      "language": "python",
      "name": "python3"
    },
    "language_info": {
      "codemirror_mode": {
        "name": "ipython",
        "version": 3
      },
      "file_extension": ".py",
      "mimetype": "text/x-python",
      "name": "python",
      "nbconvert_exporter": "python",
      "pygments_lexer": "ipython3",
      "version": "3.9.7"
    }
  },
  "nbformat": 4,
  "nbformat_minor": 0
}