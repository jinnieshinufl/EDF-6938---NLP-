{
  "cells": [
    {
      "cell_type": "markdown",
      "metadata": {
        "id": "m3nrRKc0HIEV"
      },
      "source": [
        "#### Final Proposal EDF 6938: Natural Langauge Processing\n",
        "\n",
        "### Identity Status of Former Elite Athletes: Topic Modeling Approach \n",
        "> #### Author: Yoonki Chun\n",
        "> #### Date: December 5, 2022\n",
        "> #### Email: ychun@ufl.edu\n"
      ]
    },
    {
      "cell_type": "markdown",
      "metadata": {
        "id": "MXmw_S3MHpPW"
      },
      "source": [
        "#### 1. Introduction \n",
        "\n",
        "> Establishment of a career identity poses great challenge towards individuals’ overall identity development (Erikson, 1968). Eriksonian perspective asserts, “identity is a per-son’s self-definition, in terms of those goals, values, be-liefs, and behaviors, whether chosen, established through identification, or ascribed, that provide direction, purpose, and meaning in life” (Waterman, 2015, p. 195). \n",
        "Operationalizing identity, Marcia (1966) developed the identity status paradigm, the dominant conceptual platform on one’s identity development journey. According to the paradigm, identity statuses are derived by levels of explora-tion and commitment, where individuals seek various op-tions for identity development and make commitment to certain domains (Marcia et al., 1993). Accordingly, four types of identity status can be assigned to individuals (i.e., achievement, foreclosure, moratorium, diffusion). The sta-tuses specify the variances in how individuals handle iden-tity crisis and related tasks of decision-making (Wendling & Sagas, 2022). For example, while achieved individuals have a clear, coherent, and stable sense of self, diffused individuals may show little or no interest in either explor-ing options, or making commitments (Marcia et al., 1993). Overall, the identity statuses in which individuals are allot-ted to can affect the process and outcome of engaging in and persisting in a particular career. \n",
        "When such concept is applied to elite athletes, their ca-reer identity can be characterized as high commitment with some variation in self-guided exploration (Brewer & Peti-pas, 2017). In addition, athletic career shares rather short duration, compared to other career fields, due to injury, age, and competitiveness. Thus, elite athletes often face early career transition, without sufficient time to develop a holistic sense of self. Yet, it must be noted that identity development varies among individuals, which is why it is important to consider each athlete’s status in their devel-opmental process when providing support and interventions. Thus, assessing how athletes at different identity statuses experience their career transition can provide a rich context for understanding athlete’s identity development and crisis management.\n",
        "\n",
        "\n",
        "\n"
      ]
    },
    {
      "cell_type": "markdown",
      "metadata": {
        "id": "Fr6LyhpnH1Km"
      },
      "source": [
        "#### 2. Related Work \n",
        "\n",
        "> 2.1\tTheoretical underpinning \n",
        "\n",
        "Recent advancements in identity status focused on developing an advanced scale to assess individuals’ statuses. The work by Wendling and Sagas (2022) moved beyond Marcia’s tradition-al identity status paradigm, addressing some of the measure-ment gaps that were persisting within the field. Specifically, their scale (i.e., CIDI) operationalized identity exploration into four dimensions (i.e., identity confusion, current career exploration in breadth and in depth, and past career explora-tion. Also, identity commitment was also operationalized into four dimensions (i.e., career commitment label, commitment making, commitment knowledge, and commitment quality). Through their study, they demonstrated evidence for validity, as well as being able to categorize individuals into the four statuses using their scale.\n",
        "Accurate assessment of identity statuses can lead to the exam-ination of its related outcomes.  Schwartz et al. (2011) found achieved individuals to be higher in psychological well-being, life satisfaction, meaning in life, self-esteem, and internal lo-cus of control, compared to individuals in other statuses. Also, foreclosed individuals displayed particularly lower level of meaning in life, and the moratorium status showed low level of psychological well-being. Overall, such studies who the difference in various psychosocial variables that are related. Yet, little has been done to examine the nuanced reasoning behind why such trends has been present among individuals. \n",
        "Accordingly, the current study aims implement computational linguistics and natural language processing to address the cur-rent status of the field. By analyzing qualitative data, we can understand why individuals within specific identity domain share common psychosocial functions. Such work can provide insight in further theorizing and future research directions.\n",
        "More importantly, by applying the context of athletes’ transi-tion, we can empirically assess how athletes with different identity development status functions differently and experi-ence their transitions different wise. Such an additional in-sight can be used to provide highly practical implications for professionals working in athlete development, student-athlete academic support specialists, or career transition. \n",
        "\n",
        "> 2.2\tMethodologically related work \n",
        "\n",
        "Topic modeling methods have been widely applied in NLP to assess underlying semantics from textual data (Blei et al., 2003). Topic modeling methods based on Latent Dirichlet allocation (LDA) is used in various areas including NLP, text mining, social media analysis, and information retrieval (Jelo-dar et al., 2019). For example, topic modeling on social media contents provides understanding on the conversations be-tween people in online platforms, providing insight on useful patterns and reasoning behind interactions (Sun et al., 2017; Xu et al., 2017). This methodological approach is particularly useful in processing large data to find hidden semantics, and is widely used in various fields such as medical sciences (Jiang et al., 2012, Paul & Dredze, 2011), software engineering (Asuncion et al., 2010; , Gethers & Poshyvanyk, 2010), geog-raphy (Cristani et al., 2008; Eisentein et al., 2010), and politi-cal science (Chen et al., 2010; ,30,49). \n",
        "LDA is a generative probabilistic model of a corpus (Jelodar et al., 2019). It assumes that a document is represented by random mixtures over underlying topics, and the topics are described by the word distribution. In other words, words that are most likely to appear in certain topics insinuates good information about the topic (Jelodar et al., 2019). \n",
        "\n",
        "> 2.3\tPurpose of the Study and RQs \n",
        "\n",
        "Collectively, it can be assumed that identity development plays a vital role during identity crisis, such as transition-ing from a heavily devoted career into a different domain. Thus, depending on where an individual is at in terms of his/her identity development, their transition experience may highlight different challenges and opportunities. Un-derstanding the unique nuance that are embedded within individuals’ experience can be a field-enriching contribu-tion. In tandem, the purpose of the study is to examine and compare the transitional experience of former elite athletes. In specific, the study questions: (1) what is the hiddent topics of challenges and opportunities that elite athletes experience upon their exit from sports? and (b) how does transitional experience differ based on their identity development status?\n",
        "\n",
        "\n"
      ]
    },
    {
      "cell_type": "markdown",
      "metadata": {
        "id": "9HYXWwxRH7_E"
      },
      "source": [
        "#### 3. Methods \n",
        "\n",
        "> 3.1\tData\n",
        "\n",
        "Email interviews were used to collect former athlete’s transi-tional experience. The participants were involved in collegiate athletics (Division I – Division III), from a range of sports (e.g., football, soccer, golf, swimming). Followed by IRB approval, initial emails were sent out to potential participants, asking for voluntary participation. Once the participant agreed to the consent form, specific questions asking their transition expe-rience out of sport, and challenges that followed. The partici-pants replied by email. Next, the participants were handed out online questionnaires, measuring their career identity status, using CIDI (Wendling & Sagas, 2022). The text data was coded using Microsoft excel, along with their ID, name, sex, age, sport, participation level, current career, and their identity statuses.\n",
        "\n",
        "> 3.2\tAnalysis Framework or Plan\n",
        "\n",
        "The pre-processing of the data will first tokenize the data into words, followed by lowercasing the words and remov-ing punctuations. Next, common stop words, and other words that are frequent but have less meaning will be re-moved to improve the quality of output. Next words will be lemmatized, where words in third person are changed to first person, and verb tenses will be standardized into pre-sent. Finally, words will be stemmed, reducing them into their root form.\n",
        "Next, BOW dictionary of the data set will create from the pre-processed set of data. As recommended by Li (2018), tokens that appear in (a) less than 15 documents or (b) more than 0.5 documents will be filtered out and will only keep the first 100,000 most frequent tokens. \n",
        "To address the research questions, LDA model from gen-ism package will be used. The analysis will be conducted four times, for data set that represents each of the identity status that athletes are pre-assigned with. The model will produce a set number of topics from the data set, providing words occurring in the topics and its relative weights. Next, a qualitative interpretation of the output will be performed, based on the produced outputs of the LDA model. Finally, the topics that emerged from each status will be compared to evaluate its implications.\n"
      ]
    },
    {
      "cell_type": "markdown",
      "metadata": {
        "id": "BxhsjBDDIDIH"
      },
      "source": [
        "#### 4. Analysis Demonstration "
      ]
    },
    {
      "cell_type": "markdown",
      "metadata": {
        "id": "vQAGOovRHjvx"
      },
      "source": [
        "##### 4.1. Dependencies "
      ]
    },
    {
      "cell_type": "code",
      "execution_count": null,
      "metadata": {
        "colab": {
          "base_uri": "https://localhost:8080/"
        },
        "id": "gKqprgOWHCOG",
        "outputId": "d18f1836-aeb7-4105-ab44-24af1dd51d0e"
      },
      "outputs": [
        {
          "name": "stderr",
          "output_type": "stream",
          "text": [
            "[nltk_data] Downloading package wordnet to\n",
            "[nltk_data]     /Users/jinnie.shin/nltk_data...\n",
            "[nltk_data]   Package wordnet is already up-to-date!\n",
            "[nltk_data] Downloading package omw-1.4 to\n",
            "[nltk_data]     /Users/jinnie.shin/nltk_data...\n",
            "[nltk_data]   Package omw-1.4 is already up-to-date!\n"
          ]
        },
        {
          "data": {
            "text/plain": [
              "True"
            ]
          },
          "execution_count": 1,
          "metadata": {},
          "output_type": "execute_result"
        }
      ],
      "source": [
        "# Import all the library that is necessary for your analysis \n",
        "import numpy as np\n",
        "np.random.seed(2018)\n",
        "import pandas as pd \n",
        "\n",
        "import gensim\n",
        "from gensim.utils import simple_preprocess\n",
        "from gensim.parsing.preprocessing import STOPWORDS\n",
        "from nltk.stem import WordNetLemmatizer, SnowballStemmer\n",
        "from nltk.stem.porter import *\n",
        "import nltk\n",
        "nltk.download('wordnet')\n",
        "nltk.download('omw-1.4')\n",
        "\n",
        "#############################################################"
      ]
    },
    {
      "cell_type": "markdown",
      "metadata": {
        "id": "odZPjAudIY3P"
      },
      "source": [
        "##### 4.2. Code"
      ]
    },
    {
      "cell_type": "code",
      "execution_count": null,
      "metadata": {
        "id": "dd5d-suXHgIs",
        "outputId": "410c9664-c67a-4a96-c9cc-597260ce524c"
      },
      "outputs": [
        {
          "data": {
            "text/plain": [
              "array(['\"life after athletics has been a roller coaster for sure. leading up to and immediately after graduating, i was excited to be done. i was excited to have more free time, to pursue things that interested me outside of the world of athletics, to get my career off the ground. of course there was some sadness that a huge part of my life would be ending, but everything else seemed to have tremendous upside.\\nthe first year or so was good. i didn\\'t get much in the way of exercise, it was nice to go to work, come home, and hang out. i still kept a fairly rigid schedule (into work on time, regular bedtime, eating plenty) that was hard to break away from, but it\\'s what i had been used to for 15+ years. it made me feel comfortable.\\nafter a year or so, i felt the need to get active, so i started training for triathlons. it was great to be back in a setting i was familiar with. workouts and training schedules and race day were all\\n2\\n \\ncomfortable places. while work wasn\\'t terrible, i definitely wasn\\'t super enthusiastic with what i was doing. i chalked it up to being a first job, bottom of the totem pole, and it would get better.\\ntwo years of living and working in chicago, i was feeling burned out, and i desperately missed the purpose and direction athletics provided. it was hard to motivate myself in a professional setting. in sports, and swimming especially since it\\'s such an individual sport, the work you put in directly affects the result. that wasn\\'t always the case in the professional world, not to mention i always felt i excelled more at physical pursuits than mental ones.\\nit was probably around this time that i realized how important m physical health and wellbeing was for my mental health. a life change allowed me the freedom to move to boulder, co, an outdoor adventure hotspot, and i leaped at the chance. i dove in headfirst into climbing and skiing, loving the fact that i had new athletic activities i could focus on improving in.\\nalmost 4 years later, i\\'m still crazy about climbing and skiing, constantly thinking about training, trips, climbs i want to do, etc. when i initially moved to boulder, i started moving slowly back towards a more athlete-centric mindset (getting good sleep, eating healthy, consistent training) and it\\'s only continued. work has continued to be sort of lackluster which makes it easy to be more focused on my training. again, it\\'s a comfortable space, a space i\\'m familiar with, and one that makes me feel like i have a purpose. if there was a way i could make money by being active, training, etc., i\\'d do it in a heartbeat.\\nlong story short, i was super excited to be done, have free time, settle down. 6 years later, that has changed. i feel like i\\'ve regressed, stuck on athletic goals, unable to be ok not being great at some sport, and also not being able to translate that drive over to my career. while i don\\'t necessarily miss swimming (though at times i do), i really miss the all-consuming physical nature that comes with being an athlete.\"\\t\"i think the hardest transition has been the shift from physical excellence to professional excellence. while i was always a good student, it came naturally to me. i rarely struggled with schoolwork, rarely needed to study, did well on standardized tests, etc. having competed for so long, training has become second nature. i\\'ve always felt very in tune with my body, if i\\'m tired\\n3\\n \\nor well-rested, how hard i can push in a workout, etc. i relish that feeling of satisfied exhaustion, and it\\'s something i haven\\'t found a parallel for outside of sports. there hasn\\'t been that hard work/ big payoff feeling of satisfaction or reward.\\ni think one of the big benefits you routinely hear about is the hard work ethic that gets carried over into other aspects of athletes\\' lives. i haven\\'t found that to be the case for myself. like i mentioned in my previous answer, i haven\\'t been able to convert that physical hard work into consistent hard work in my professional life. i think part of that stems from not learning how to struggle and work through things from a mental/ educational perspective. i think part of it also stems from a lack of passion in the work that i\\'m doing.\\none of the biggest benefits to my career as an athlete was my scholarship. graduating with no student loan debt has been an incredible advantage early in my career, allowing me to start a 401k, save for a down payment on a house, having money to move across the country, etc. i will be forever grateful that sport allowed me to pay for school.\"'],\n",
              "      dtype=object)"
            ]
          },
          "execution_count": 22,
          "metadata": {},
          "output_type": "execute_result"
        }
      ],
      "source": [
        "#### Your code for the analysis will be provided here \n",
        "\n",
        "#data\n",
        "dat = pd.read_excel('Data_Transition_Status_simple.xlsx')\n",
        "dat['Text'] = dat['Text'].str.lower()\n",
        "dat.iloc[0].values\n",
        "####################################################"
      ]
    },
    {
      "cell_type": "code",
      "execution_count": null,
      "metadata": {
        "id": "ErOECs6_miQ6"
      },
      "outputs": [],
      "source": [
        "#Removing irrelevant words\n",
        "\n",
        "#dat['Text'] = dat['Text'].replace(\"college\", '')\n",
        "#dat['Text'] = dat['Text'].replace(\"sport\", '')\n",
        "#dat['Text'] = dat['Text'].replace(\"school\", '')\n",
        "#dat['Text'] = dat['Text'].replace(\"time\", '')\n",
        "#dat['Text'] = dat['Text'].replace(\"life\", '')\n",
        "\n",
        "#### This seems to be not working\n",
        "####### JS: These words are added as stopwords."
      ]
    },
    {
      "cell_type": "code",
      "execution_count": null,
      "metadata": {
        "id": "Le0emRGhW5wZ"
      },
      "outputs": [],
      "source": [
        "#Lemmatization & Stemming\n",
        "def lemmatize_stemming(text):\n",
        "    stemmer = SnowballStemmer('english')\n",
        "    return stemmer.stem(WordNetLemmatizer().lemmatize(text, pos='v'))\n",
        "\n",
        "def preprocess(text):\n",
        "    result = []\n",
        "    stopwords = list(gensim.parsing.preprocessing.STOPWORDS)\n",
        "    stopwords = stopwords + ['college', 'sport', 'lunch', 'time', 'life'] #added \n",
        "    # you can add more to this stopwords \n",
        "    \n",
        "    for token in gensim.utils.simple_preprocess(text):\n",
        "        if token not in stopwords and len(token) > 3:\n",
        "            result.append(lemmatize_stemming(token))\n",
        "    return result"
      ]
    },
    {
      "cell_type": "code",
      "execution_count": null,
      "metadata": {
        "colab": {
          "base_uri": "https://localhost:8080/"
        },
        "id": "uoclzV46asTZ",
        "outputId": "b0a359fb-f1fa-448b-96d0-f3f755b10160"
      },
      "outputs": [
        {
          "name": "stdout",
          "output_type": "stream",
          "text": [
            "0 abl\n",
            "1 activ\n",
            "2 advantag\n",
            "3 adventur\n",
            "4 affect\n",
            "5 allow\n",
            "6 answer\n",
            "7 aspect\n",
            "8 athlet\n",
            "9 away\n",
            "10 bedtim\n",
            "11 benefit\n",
            "12 better\n",
            "13 biggest\n",
            "14 bodi\n",
            "15 boulder\n",
            "16 break\n",
            "17 burn\n",
            "18 career\n",
            "19 carri\n",
            "0 abl\n",
            "1 activ\n",
            "2 advantag\n",
            "3 adventur\n",
            "4 affect\n",
            "5 allow\n",
            "6 answer\n",
            "7 aspect\n",
            "8 athlet\n",
            "9 away\n",
            "10 bedtim\n",
            "11 benefit\n",
            "12 better\n",
            "13 biggest\n",
            "14 bodi\n",
            "15 boulder\n"
          ]
        }
      ],
      "source": [
        "processed_docs =dat.Text.map(preprocess)\n",
        "dictionary = gensim.corpora.Dictionary(processed_docs)\n",
        "count = 0\n",
        "for k, v in dictionary.iteritems():\n",
        "    print(k, v)\n",
        "    count += 1\n",
        "    if count > 19:\n",
        "        break\n",
        "dictionary = gensim.corpora.Dictionary(processed_docs)\n",
        "count = 0\n",
        "for k, v in dictionary.iteritems():\n",
        "    print(k, v)\n",
        "    count += 1\n",
        "    if count > 15:\n",
        "        break"
      ]
    },
    {
      "cell_type": "code",
      "execution_count": null,
      "metadata": {
        "id": "oKoEnSy_cbmP"
      },
      "outputs": [],
      "source": [
        "bow_corpus = [dictionary.doc2bow(doc) for doc in processed_docs]\n",
        "# topic number - hyper parameter: \n",
        "#lda_model = gensim.models.LdaMulticore(bow_corpus, num_topics=10, \n",
        "#                                       id2word=dictionary, passes=2, workers=2)\n",
        "####### JS: We need some evaluation measure to decide on the optimal number of topics\n",
        "#           I also explored whether there is a better implementation using the mallet's LDA\n",
        "\n",
        "mallet_path = './mallet-2.0.8/bin/mallet' # update this path / introduced a variational LDA model to improve the performance \n",
        "                                          # https://mimno.github.io/Mallet/\n",
        "\n",
        "def compute_coherence_values(dictionary, corpus, texts, limit, start=2, step=3):\n",
        "    from gensim.models import CoherenceModel\n",
        "    \"\"\"\n",
        "    Compute c_v coherence for various number of topics\n",
        "\n",
        "    Parameters:\n",
        "    ----------\n",
        "    dictionary : Gensim dictionary\n",
        "    corpus : Gensim corpus\n",
        "    texts : List of input texts\n",
        "    limit : Max num of topics\n",
        "\n",
        "    Returns:\n",
        "    -------\n",
        "    model_list : List of LDA topic models\n",
        "    coherence_values : Coherence values corresponding to the LDA model with respective number of topics\n",
        "    \"\"\"\n",
        "    coherence_values = []\n",
        "    model_list = []\n",
        "    for num_topics in range(start, limit, step):\n",
        "        model = gensim.models.wrappers.LdaMallet(mallet_path, corpus=corpus, num_topics=num_topics, id2word=dictionary)\n",
        "        model_list.append(model)\n",
        "        coherencemodel = CoherenceModel(model=model, \n",
        "                                        texts=texts, \n",
        "                                        dictionary=dictionary, \n",
        "                                        coherence='c_v')\n",
        "        coherence_values.append(coherencemodel.get_coherence())\n",
        "        print('coherence ---- evaluated ')\n",
        "\n",
        "    return model_list, coherence_values\n",
        "\n",
        "model_list, coherence_values = compute_coherence_values(dictionary=dictionary,\n",
        "                                                    \n",
        "                                                        corpus=bow_corpus, \n",
        "                                                        texts=processed_docs, \n",
        "                                                        start=2, limit=40, step=6)"
      ]
    },
    {
      "cell_type": "code",
      "execution_count": null,
      "metadata": {
        "id": "mv4UZxZfdrid",
        "outputId": "bcdf41e2-40c9-4606-d103-8a752ca385b2"
      },
      "outputs": [
        {
          "data": {
            "image/png": "[encoded data removed]",
            "text/plain": [
              "<Figure size 432x288 with 1 Axes>"
            ]
          },
          "metadata": {
            "needs_background": "light"
          },
          "output_type": "display_data"
        }
      ],
      "source": [
        "# Show graph\n",
        "import matplotlib.pyplot as plt\n",
        "%matplotlib inline\n",
        "limit=40; start=2; step=6;\n",
        "x = range(start, limit, step)\n",
        "plt.plot(x, coherence_values)\n",
        "plt.xlabel(\"Num Topics\")\n",
        "plt.ylabel(\"Coherence score\")\n",
        "plt.legend((\"coherence_values\"), loc='best')\n",
        "plt.show() # the graph is showing 15 is the best topic number \n",
        "\n"
      ]
    },
    {
      "cell_type": "code",
      "execution_count": null,
      "metadata": {
        "colab": {
          "base_uri": "https://localhost:8080/"
        },
        "id": "QU-AE5afcdAr",
        "outputId": "c554b245-e80d-40cc-8316-d1f09d72a727"
      },
      "outputs": [
        {
          "name": "stdout",
          "output_type": "stream",
          "text": [
            "Topic: 0 \n",
            "Words: 0.069*\"difficult\" + 0.038*\"feel\" + 0.035*\"coach\" + 0.031*\"structur\" + 0.031*\"maintain\" + 0.028*\"health\" + 0.026*\"athlet\" + 0.026*\"plan\" + 0.025*\"probabl\" + 0.025*\"run\"\n",
            "Topic: 1 \n",
            "Words: 0.136*\"work\" + 0.106*\"thing\" + 0.056*\"abl\" + 0.045*\"teammat\" + 0.037*\"time\" + 0.034*\"make\" + 0.033*\"adjust\" + 0.030*\"week\" + 0.029*\"schedul\" + 0.029*\"chang\"\n",
            "Topic: 2 \n",
            "Words: 0.160*\"athlet\" + 0.076*\"student\" + 0.052*\"experi\" + 0.046*\"feel\" + 0.044*\"learn\" + 0.036*\"peopl\" + 0.036*\"bodi\" + 0.035*\"year\" + 0.033*\"challeng\" + 0.023*\"graduat\"\n",
            "Topic: 3 \n",
            "Words: 0.109*\"year\" + 0.094*\"leav\" + 0.055*\"graduat\" + 0.042*\"final\" + 0.040*\"degre\" + 0.028*\"appli\" + 0.027*\"complet\" + 0.023*\"compet\" + 0.022*\"busi\" + 0.022*\"includ\"\n",
            "Topic: 4 \n",
            "Words: 0.042*\"chang\" + 0.039*\"end\" + 0.036*\"parent\" + 0.034*\"felt\" + 0.032*\"person\" + 0.032*\"mental\" + 0.030*\"motiv\" + 0.030*\"follow\" + 0.024*\"deal\" + 0.023*\"emot\"\n",
            "Topic: 5 \n",
            "Words: 0.049*\"start\" + 0.046*\"miss\" + 0.042*\"coach\" + 0.035*\"month\" + 0.035*\"activ\" + 0.035*\"grow\" + 0.033*\"wasn\" + 0.032*\"play\" + 0.030*\"abl\" + 0.023*\"issu\"\n",
            "Topic: 6 \n",
            "Words: 0.098*\"team\" + 0.090*\"school\" + 0.069*\"friend\" + 0.032*\"home\" + 0.029*\"season\" + 0.026*\"teammat\" + 0.024*\"live\" + 0.022*\"player\" + 0.020*\"realiz\" + 0.020*\"summer\"\n",
            "Topic: 7 \n",
            "Words: 0.138*\"sport\" + 0.065*\"play\" + 0.062*\"coach\" + 0.045*\"school\" + 0.039*\"challeng\" + 0.038*\"stay\" + 0.034*\"love\" + 0.034*\"high\" + 0.030*\"longer\" + 0.030*\"game\"\n",
            "Topic: 8 \n",
            "Words: 0.072*\"softbal\" + 0.055*\"career\" + 0.050*\"long\" + 0.048*\"thing\" + 0.041*\"littl\" + 0.032*\"finish\" + 0.027*\"interest\" + 0.025*\"month\" + 0.025*\"group\" + 0.023*\"pursu\"\n",
            "Topic: 9 \n",
            "Words: 0.056*\"workout\" + 0.055*\"career\" + 0.054*\"transit\" + 0.046*\"enjoy\" + 0.043*\"adjust\" + 0.039*\"opportun\" + 0.035*\"activ\" + 0.034*\"free\" + 0.033*\"competit\" + 0.031*\"social\"\n",
            "Topic: 10 \n",
            "Words: 0.070*\"career\" + 0.058*\"collegi\" + 0.054*\"routin\" + 0.048*\"continu\" + 0.037*\"differ\" + 0.036*\"give\" + 0.034*\"master\" + 0.028*\"immedi\" + 0.026*\"practic\" + 0.023*\"begin\"\n",
            "Topic: 11 \n",
            "Words: 0.120*\"transit\" + 0.050*\"level\" + 0.050*\"coach\" + 0.043*\"posit\" + 0.040*\"opportun\" + 0.035*\"relationship\" + 0.034*\"main\" + 0.032*\"day\" + 0.029*\"play\" + 0.027*\"program\"\n",
            "Topic: 12 \n",
            "Words: 0.052*\"basketbal\" + 0.050*\"start\" + 0.050*\"hard\" + 0.044*\"feel\" + 0.040*\"felt\" + 0.032*\"play\" + 0.025*\"job\" + 0.022*\"move\" + 0.021*\"find\" + 0.020*\"profession\"\n",
            "Topic: 13 \n",
            "Words: 0.105*\"athlet\" + 0.053*\"peopl\" + 0.051*\"move\" + 0.036*\"face\" + 0.034*\"weight\" + 0.034*\"entir\" + 0.029*\"teach\" + 0.025*\"room\" + 0.024*\"track\" + 0.020*\"past\"\n",
            "Topic: 14 \n",
            "Words: 0.071*\"work\" + 0.062*\"physic\" + 0.054*\"year\" + 0.051*\"graduat\" + 0.036*\"train\" + 0.028*\"practic\" + 0.021*\"swim\" + 0.021*\"mention\" + 0.019*\"class\" + 0.019*\"struggl\"\n"
          ]
        }
      ],
      "source": [
        "lda_model = gensim.models.wrappers.LdaMallet(mallet_path, \n",
        "                                             corpus=bow_corpus, \n",
        "                                             num_topics=15, \n",
        "                                             id2word=dictionary)\n",
        "        \n",
        "    \n",
        "for idx, topic in lda_model.print_topics(-1):\n",
        "    print('Topic: {} \\nWords: {}'.format(idx, topic))"
      ]
    },
    {
      "cell_type": "markdown",
      "metadata": {
        "id": "b1e7Gt-BIhWL"
      },
      "source": [
        "#### 4. Results \n",
        "\n",
        "> Insufficient data affected the analysis, limiting the comparison based on different identity statuses. Instead, an overall topic analysis was performed with the entire dataset, addressing research question 1. Coherence scores returned an optimal number of 15topics in the dataset. The LDA topic model displayed interesting findings. Topic 1, 2, 11 and 13 apearto be related to a sudden change of athlete's physical appearance and health upon leaving their respected sport. Many athletes experience such change as their daily routine and lifestyle is faced with dramatic change, followed by decreased amount of exercise. Therefore, their athletic identity faces threat as the physical appearance and health does not resemble their original identity as elite athletes. Topics 5-8 represents the psychological diffulty that athletes experience during transition. All of a sudden, they are departed from their school, teamates, and coaches. The realization of career terminatoin becomes real and accompanies distress and emotional difficulties. Third, topics 3, 4, 9, 10, 12, 14, and 15 are related to difficulties and opportunities related to preparing for a new career/chapter. Often times, senior athletes are pressured with getting ready for graduation, and preparing their alternative career. Often times they experience difficulties in acquiring degree requirements and learning new skills for career transition. On the other hand, it also bring athletes a new opportunity to discover their interests and invest in a new career that they may find interesting. Also, some athletes may leverage their athletic experience and find related career such as coaching position or administrative jobs at sport organizations.\n"
      ]
    },
    {
      "cell_type": "markdown",
      "metadata": {
        "id": "gHRLxsDAIlCr"
      },
      "source": [
        "#### 5. Conclusion and Discussion\n",
        "\n",
        "> The results show that eliete athletes are faced with physical, psychological, and occupational difficulties during their exit from sport. Especially, if athletes are faced with ubrupt retirement from unexpected incidents such as injury, they are left with lack of time and resources to better prepare themselves for transitions. Most athletes are required to engage in high intensity trainings, matches that require frequent traveling, leaving them with insufficient time to prepare for their next chapters. Thus, it is necessarry that adequate support is readily provided for athletes. For example, a career development program can be provided as mendatory for athletes during their junior and senior year. Also, regular sessions with athlete support specialits can provide neccessarry support both academically and psychologically. Meahwhile, coaches should realize that athletes are students as well, deserving time away from their athletic duties, to recharge, relieve stress and also invest in non-sport activities. Such change does not occur naturally due to the competative nature of collegiate sport. Thus, organizational intervention at the macro level (e.g., NCAA) should be accompanied to bring forth meaningful change.\n",
        "Follow up study should attempt to collect sufficient data to address RQ2, comparing difference by athletes' identity development status. As identity development involves exploration and commitment to other domains, more prepared athletes (e.g., moratorium or achieved status) may find transitonal period as more of an opportunity, than challenging and stressful. Also, the career choices may be different as well. For example, foreclosed athletes may prefer staying in sport, attempting to find related jobs like coaching. On the other hand, more variation in career choices may exist for athletes who have explored alternatives in breadth and in depth. It is hard to hypothesise which choice is better for the athletes without further theorization (e.g., identity continuity and coherence). Yet, it is important to assess the different patterns concerning athletes' identity staus, especially for practical implementation.\n",
        "The current study showed several limitations. First, insufficient dataset resulted in keywords that were less significant to be included in the topics. Also, irrelevent stop words should be further assesed and preprocessed for a more accurate analysis. Lastly, additional analysis like sentiment analysis can be accompanied to provide a more in-depth understanding of athletes' transitional experience.\n",
        "\n"
      ]
    }
  ],
  "metadata": {
    "colab": {
      "provenance": []
    },
    "kernelspec": {
      "display_name": "Python 3",
      "language": "python",
      "name": "python3"
    },
    "language_info": {
      "codemirror_mode": {
        "name": "ipython",
        "version": 3
      },
      "file_extension": ".py",
      "mimetype": "text/x-python",
      "name": "python",
      "nbconvert_exporter": "python",
      "pygments_lexer": "ipython3",
      "version": "3.9.7"
    }
  },
  "nbformat": 4,
  "nbformat_minor": 0
}