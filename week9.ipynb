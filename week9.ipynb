{
 "cells": [
  {
   "cell_type": "markdown",
   "id": "530144c4",
   "metadata": {
    "id": "530144c4"
   },
   "source": [
    "<h1><center>  lab 9 : Text Classification </center>\n",
    "    \n",
    "<img src=\"https://miro.medium.com/max/1200/0*kHsYtU2d9IgyFwet.jpg\" width=\"500\">\n"
   ]
  },
  {
   "cell_type": "markdown",
   "id": "c3c7066e",
   "metadata": {
    "id": "c3c7066e"
   },
   "source": [
    "```Created by Jinnie Shin (jinnie.shin@coe.ufl.edu)```\\\n",
    "```Date: May 17 2022```\n",
    "\n",
    "<img src=\"https://encrypted-tbn0.gstatic.com/images?q=tbn:ANd9GcQmNf86oJnfhpkPA9LnrFnAbfwF2VywPYpB_w&usqp=CAU\" align=\"left\" width=\"70\" height=\"70\" align=\"left\"> \n",
    "\n",
    " ### Required Packages or Dependencies"
   ]
  },
  {
   "cell_type": "code",
   "execution_count": null,
   "id": "02eac3c7",
   "metadata": {
    "id": "02eac3c7"
   },
   "outputs": [],
   "source": [
    "#!pip install { } ! in case you run into the `package not avaialble` error\n",
    "import pandas as pd \n",
    "import numpy as np "
   ]
  },
  {
   "cell_type": "markdown",
   "id": "e37dfed1",
   "metadata": {
    "id": "e37dfed1"
   },
   "source": [
    "\n",
    "## Dataset\n",
    "#### Essay Set 10\n",
    "---\n",
    "`Prompt`: \\\n",
    "Brandi and Jerry were designing a doghouse. Brandi and Jerry did the following controlled experiment to find out how the color of an object affects its temperature. Use the results from the experiment to describe the best paint color for the doghouse. \n",
    "In your description, be sure to:\\\n",
    "•\tChoose a paint color. \\\n",
    "•\tDescribe how that color might affect the inside of the doghouse. \\\n",
    "•\tUse results from the experiment to support your description.\n",
    "\n",
    "\n",
    "> `1. Question`: What is the effect of different lid colors on the air temperature inside a glass jar exposed to a lamp? \\\n",
    "> `2. Hypothesis`: The darker the lid color, the greater the increase in air temperature in the glass jar, as darker colors absorb more energy. \\\n",
    "> `3. Materials`:\n",
    "glass jar, lamp, four colored lids: {black, dark gray, light gray, and white}, thermometer, meterstick, stopwatch\\\n",
    "> `4. Procedures`:\n",
    ">> 1.\tPut the black lid with the attached thermometer on the glass jar.\n",
    ">> 2.\tMake sure the starting temperature inside the jar is 24° C.\n",
    ">> 3.\tPlace lamp 5 centimeters away from the lid and turn on the lamp.\n",
    ">> 4.\tAfter 10 minutes measure the air temperature inside the glass jar and record as Trial 1.\n",
    ">> 5.\tTurn off lamp and wait until the air in the jar returns to the starting temperature.\n",
    ">> 6.\tRepeat steps 2 through 5 for Trials 2 and 3.\n",
    ">> 7.\tRepeat steps 1 through 6 for the dark gray, light gray, and white lids.\n",
    ">> 8.\tCalculate and record the average air temperature for each lid color. \n",
    "\n",
    "> `5. Results`: Lid Colour vs. Air Temperature (Insides Glass Jar After 10 mins (°C)\n",
    "\n",
    "| Lid Colour |   Trial 1|  Trial 1|   Trial 3| Average|\n",
    "|------------|----------|----------|----------|----------|\n",
    "| Black      | `54°C`   |`52°C`   |`54°C`   |`53°C`   |\n",
    "| Dark gray  | `48°C`   | `48°C`   |`48°C`   | `48°C`   |\n",
    "| Light gray | `44°C`   |`44°C`   |`46°C`   |`45°C`   |\n",
    "| White      | `42°C`   | `43°C`   |`41°C`   | `42°C`   |\n",
    "\n",
    "---\n",
    "#### Essay Set 10 Data Description\n",
    "\n",
    "| Type of response            | Source dependent response |\n",
    "|-----------------------------|---------------------------|\n",
    "| Grade level                 | `8`                       |\n",
    "| Subject                     | `Science`                   |\n",
    "| Total sample size           | `1,640`                     |\n",
    "| Average length of responses | `60 words`                  |\n",
    "| Score range                 | `0-2`                       |\n",
    "\n",
    "\n"
   ]
  },
  {
   "cell_type": "code",
   "execution_count": null,
   "id": "f03eea15",
   "metadata": {
    "id": "f03eea15",
    "outputId": "e9c2c099-cc9d-495b-a255-d06186aae04c"
   },
   "outputs": [
    {
     "data": {
      "text/html": [
       "<div>\n",
       "<style scoped>\n",
       "    .dataframe tbody tr th:only-of-type {\n",
       "        vertical-align: middle;\n",
       "    }\n",
       "\n",
       "    .dataframe tbody tr th {\n",
       "        vertical-align: top;\n",
       "    }\n",
       "\n",
       "    .dataframe thead th {\n",
       "        text-align: right;\n",
       "    }\n",
       "</style>\n",
       "<table border=\"1\" class=\"dataframe\">\n",
       "  <thead>\n",
       "    <tr style=\"text-align: right;\">\n",
       "      <th></th>\n",
       "      <th>Id</th>\n",
       "      <th>EssaySet</th>\n",
       "      <th>Score1</th>\n",
       "      <th>Score2</th>\n",
       "      <th>EssayText</th>\n",
       "    </tr>\n",
       "  </thead>\n",
       "  <tbody>\n",
       "    <tr>\n",
       "      <th>15403</th>\n",
       "      <td>25949</td>\n",
       "      <td>10</td>\n",
       "      <td>2</td>\n",
       "      <td>2</td>\n",
       "      <td>black :: black might affect the dog house beca...</td>\n",
       "    </tr>\n",
       "    <tr>\n",
       "      <th>15404</th>\n",
       "      <td>25950</td>\n",
       "      <td>10</td>\n",
       "      <td>1</td>\n",
       "      <td>1</td>\n",
       "      <td>white :: White because you wouldn't want the d...</td>\n",
       "    </tr>\n",
       "    <tr>\n",
       "      <th>15405</th>\n",
       "      <td>25951</td>\n",
       "      <td>10</td>\n",
       "      <td>2</td>\n",
       "      <td>2</td>\n",
       "      <td>white :: the color white will reflect the suns...</td>\n",
       "    </tr>\n",
       "    <tr>\n",
       "      <th>15406</th>\n",
       "      <td>25952</td>\n",
       "      <td>10</td>\n",
       "      <td>1</td>\n",
       "      <td>1</td>\n",
       "      <td>white :: this color will keep the dog house co...</td>\n",
       "    </tr>\n",
       "    <tr>\n",
       "      <th>15407</th>\n",
       "      <td>25953</td>\n",
       "      <td>10</td>\n",
       "      <td>2</td>\n",
       "      <td>2</td>\n",
       "      <td>white :: I would use a light color like White ...</td>\n",
       "    </tr>\n",
       "  </tbody>\n",
       "</table>\n",
       "</div>"
      ],
      "text/plain": [
       "          Id  EssaySet  Score1  Score2  \\\n",
       "15403  25949        10       2       2   \n",
       "15404  25950        10       1       1   \n",
       "15405  25951        10       2       2   \n",
       "15406  25952        10       1       1   \n",
       "15407  25953        10       2       2   \n",
       "\n",
       "                                               EssayText  \n",
       "15403  black :: black might affect the dog house beca...  \n",
       "15404  white :: White because you wouldn't want the d...  \n",
       "15405  white :: the color white will reflect the suns...  \n",
       "15406  white :: this color will keep the dog house co...  \n",
       "15407  white :: I would use a light color like White ...  "
      ]
     },
     "execution_count": 2,
     "metadata": {},
     "output_type": "execute_result"
    }
   ],
   "source": [
    "df = pd.read_csv('./data/train_rel_2.tsv', sep='\\t')\n",
    "df = df[df['EssaySet'] == 10]\n",
    "df[:5]"
   ]
  },
  {
   "cell_type": "markdown",
   "id": "da6db121",
   "metadata": {
    "id": "da6db121"
   },
   "source": [
    "<img src=\"https://i.pinimg.com/736x/2e/aa/7d/2eaa7d5021ca7c3c98bc93b98b9646fe.jpg\" align=\"left\" width=\"70\" height=\"70\" align=\"left\">\n",
    "\n",
    " ## Task 1: Training data\n",
    ">  Q1. Let's create a new column, called `color`, in the dataframe `df` that only saves the student's reponses regarding the colour choice (e.g., black, white, ... )  \\\n",
    "Hint: You can use the functions `.split()` and `.apply()`\n",
    "\n",
    "> Q2: Remove the colour choice response from the `EssayText` column and save it into a new column `response`  \\\n",
    "(e.g., \"black :: black might affect the dog ~ \" -> \"black might affect the dog~\")"
   ]
  },
  {
   "cell_type": "code",
   "execution_count": null,
   "id": "b7f0c1da",
   "metadata": {
    "id": "b7f0c1da",
    "outputId": "8cf97a4b-4747-48f0-ec0f-7fb46dcf2b25"
   },
   "outputs": [
    {
     "data": {
      "text/plain": [
       "white          733\n",
       "black          392\n",
       "light gray     288\n",
       "dark gray      225\n",
       "                 2\n",
       "Name: color, dtype: int64"
      ]
     },
     "execution_count": 3,
     "metadata": {},
     "output_type": "execute_result"
    }
   ],
   "source": [
    "################################### YOUR CODE HERE for Q1 #############################\n",
    "df['color'] = df.EssayText.apply(lambda x: x.split('::')[0])\n",
    "\n",
    "#######################################################################################\n",
    "df['color'].value_counts()"
   ]
  },
  {
   "cell_type": "code",
   "execution_count": null,
   "id": "e2976198",
   "metadata": {
    "id": "e2976198",
    "outputId": "df3be441-397e-4457-ee22-1170964c5dc0"
   },
   "outputs": [
    {
     "data": {
      "text/plain": [
       "15403     black might affect the dog house because then...\n",
       "15404     White because you wouldn't want the dog to ge...\n",
       "15405     the color white will reflect the suns rays of...\n",
       "15406     this color will keep the dog house cooler ins...\n",
       "15407     I would use a light color like White in this ...\n",
       "                               ...                        \n",
       "17038     white becuase if you live in a hot place the ...\n",
       "17039     This color will affect the doghouse for the b...\n",
       "17040     i think light gray would work the best becaus...\n",
       "17041      if they painted the doghouse dark gray, then...\n",
       "17042     the black would affect the doghouse because t...\n",
       "Name: response, Length: 1640, dtype: object"
      ]
     },
     "execution_count": 4,
     "metadata": {},
     "output_type": "execute_result"
    }
   ],
   "source": [
    "################################### YOUR CODE HERE for Q2 #############################\n",
    "df['response'] = df.EssayText.apply(lambda x: x.split('::')[1] if '::' in x else x)\n",
    "\n",
    "#######################################################################################\n",
    "df.response"
   ]
  },
  {
   "cell_type": "code",
   "execution_count": null,
   "id": "45b0fa0a",
   "metadata": {
    "id": "45b0fa0a"
   },
   "outputs": [],
   "source": []
  },
  {
   "cell_type": "markdown",
   "id": "98aabe31",
   "metadata": {
    "id": "98aabe31"
   },
   "source": [
    "\n",
    "## **REVIEW**: Text Vectorizer (from Week 4)\n",
    "\n",
    "> We will use the coh-metrix indices introduced in Week 6, `features.xlsx`"
   ]
  },
  {
   "cell_type": "code",
   "execution_count": null,
   "id": "c324cee8",
   "metadata": {
    "id": "c324cee8"
   },
   "outputs": [],
   "source": [
    "class text_vectorizer():\n",
    "    \n",
    "    def count_vectorizer(self, data): #Input is the dataframe we created above with three columns \n",
    "        self.data = data\n",
    "        \n",
    "        from collections import Counter # import the Counter function \n",
    "        import pandas as pd \n",
    "        import nltk \n",
    "        \n",
    "        self.data['new_response'] = self.data['response'].apply(nltk.word_tokenize)\n",
    "        self.data['new_response'] = self.data['new_response'].apply(Counter).apply(dict) #we apply the counter function to the \"cleaned\" columns\n",
    "                                                                              # we used the apply function in week 2\n",
    "\n",
    "        self.bow = pd.DataFrame(self.data['new_response'].tolist()).T.fillna(0) # we restructure the output as a dataframe and name it \"bow\"\n",
    "                                                                      # also fill in the missing values (nan -> 0 )\n",
    "        self.unique_vocab = list(self.bow.index)                                # FYI, bow standards for (bag-of-words)\n",
    "\n",
    "        return self.bow, self.unique_vocab\n",
    "\n",
    "    def tfidf_vectorizer(self, data):\n",
    "        self.data = data\n",
    "        \n",
    "        import pandas as pd \n",
    "        for response in self.bow.columns:\n",
    "            self.bow[response] = self.bow[response].apply(lambda x: np.log10(x+1))\n",
    "\n",
    "        df = pd.DataFrame( ( ( bow > 0 ) * 1 ).sum(axis=1), columns=['df'] )  #this is the document-freqeuncy \n",
    "        N = self.bow.shape[1] # this is the collection frequency (total number of doucments)\n",
    "        df['IDF'] = df['df'].apply(lambda x: np.log10(N/x))\n",
    "\n",
    "        self.tfidf = bow.multiply(df.IDF, axis='index')\n",
    "\n",
    "        return self.tfidf\n"
   ]
  },
  {
   "cell_type": "code",
   "execution_count": null,
   "id": "53a07b81",
   "metadata": {
    "id": "53a07b81",
    "outputId": "58f666f1-3da6-4d2f-d289-dd6b3b4112d1"
   },
   "outputs": [
    {
     "name": "stdout",
     "output_type": "stream",
     "text": [
      "1    770\n",
      "2    580\n",
      "0    290\n",
      "Name: Score1, dtype: int64\n"
     ]
    }
   ],
   "source": [
    "vect = text_vectorizer()\n",
    "bow, vocab = vect.count_vectorizer(df)\n",
    "bow[:5]\n",
    "X= bow.T\n",
    "y = df.Score1\n",
    "print(y.value_counts())"
   ]
  },
  {
   "cell_type": "markdown",
   "id": "565d82f6",
   "metadata": {
    "id": "565d82f6"
   },
   "source": [
    "## 1. Naive Bayes Classifier"
   ]
  },
  {
   "cell_type": "code",
   "execution_count": null,
   "id": "5885a3dd",
   "metadata": {
    "id": "5885a3dd"
   },
   "outputs": [],
   "source": [
    "class NB():\n",
    "    \n",
    "    def __init__(self):\n",
    "        # count is a dictionary which stores several dictionaries corresponding to each news category\n",
    "        # each value in the subdictionary represents the freq of the key corresponding to that news category \n",
    "        self.doc_count ={}\n",
    "        self.word_count = {}\n",
    "        self.classes = None\n",
    "        self.vocab = []\n",
    "    \n",
    "    def fit(self,X_train,Y_train):\n",
    "        \n",
    "        self.vocab = list(X_train.columns)\n",
    "        self.doc_count = dict(Y_train.value_counts())\n",
    "        self.classes = list(set(Y_train))\n",
    "        \n",
    "        data = X_train\n",
    "        data['output_y'] = Y_train.tolist()\n",
    "        \n",
    "        for class_ in self.classes: \n",
    "            self.word_count[class_] = dict(data[data['score'] ==class_].drop(columns =['output_y']).sum())\n",
    "        \n",
    "        self.doc_count['total'] = sum(self.doc_count.values())\n",
    "        self.word_count['total']= dict(X_train.sum())\n",
    "        \n",
    "    def probability(self,test_vec,class_):\n",
    "        \n",
    "        log_prob = np.log(self.doc_count[class_]) - np.log(self.doc_count['total'])\n",
    "        total_words = len(test_vec.index)\n",
    "        for i in list(test_vec.index):\n",
    "            try: \n",
    "                current_word_prob = test_vec[i]*(np.log(self.word_count[class_][i]+1)-np.log(self.word_count['total'][i]+total_words))\n",
    "                log_prob += current_word_prob\n",
    "            except:\n",
    "                log_prob = log_prob \n",
    "        return log_prob\n",
    "    \n",
    "    \n",
    "    def predictSinglePoint(self,test_point):\n",
    "        \n",
    "        \n",
    "        best_class = None\n",
    "        best_prob = None\n",
    "        first_run = True\n",
    "        \n",
    "        for class_ in self.classes:\n",
    "            log_probability_current_class = self.probability(test_point,class_)\n",
    "            if (first_run) or (log_probability_current_class > best_prob) :\n",
    "                best_class = class_\n",
    "                best_prob = log_probability_current_class\n",
    "                first_run = False\n",
    "                \n",
    "        return best_class\n",
    "    \n",
    "    def predict(self,X_test):\n",
    "        # This can take some time to complete\n",
    "        Y_pred = [] \n",
    "        for i in range(len(X_test)):\n",
    "        # print(i) # Uncomment to see progress\n",
    "            Y_pred.append( self.predictSinglePoint(X_test.iloc[i]) )\n",
    "        \n",
    "        return Y_pred\n",
    "    \n",
    "    def score(self,Y_pred,Y_true):\n",
    "        # returns the mean accuracy\n",
    "        count = 0\n",
    "        for i in range(len(Y_pred)):\n",
    "            if Y_pred[i] == Y_true[i]:\n",
    "                count+=1\n",
    "        return count/len(Y_pred)"
   ]
  },
  {
   "cell_type": "code",
   "execution_count": null,
   "id": "800bec66",
   "metadata": {
    "id": "800bec66"
   },
   "outputs": [],
   "source": [
    "nbc = NB()\n",
    "nbc.fit(X, y)"
   ]
  },
  {
   "cell_type": "code",
   "execution_count": null,
   "id": "be3fe3d0",
   "metadata": {
    "id": "be3fe3d0",
    "outputId": "9d4923f1-bc5e-4d91-aa7a-c89a9cb7e48d"
   },
   "outputs": [
    {
     "data": {
      "text/plain": [
       "{1: 770, 2: 580, 0: 290, 'total': 1640}"
      ]
     },
     "execution_count": 221,
     "metadata": {},
     "output_type": "execute_result"
    }
   ],
   "source": [
    "nbc.doc_count"
   ]
  },
  {
   "cell_type": "code",
   "execution_count": null,
   "id": "9864bea6",
   "metadata": {
    "id": "9864bea6",
    "outputId": "4e98de50-f196-4f67-b6e4-0f81e9ac4c0d"
   },
   "outputs": [
    {
     "name": "stdout",
     "output_type": "stream",
     "text": [
      "Sklearn's score on training data : 0.8073170731707318\n",
      "Sklearn's score on testing data : 0.8073170731707318\n",
      "Classification report for testing data :-\n",
      "              precision    recall  f1-score   support\n",
      "\n",
      "           0       1.00      0.45      0.62       290\n",
      "           1       0.77      0.91      0.83       770\n",
      "           2       0.83      0.86      0.84       580\n",
      "\n",
      "    accuracy                           0.81      1640\n",
      "   macro avg       0.86      0.74      0.76      1640\n",
      "weighted avg       0.83      0.81      0.80      1640\n",
      "\n"
     ]
    }
   ],
   "source": [
    "from sklearn.naive_bayes import MultinomialNB\n",
    "from sklearn.metrics import classification_report\n",
    "\n",
    "clf = MultinomialNB()\n",
    "clf.fit(X,y)\n",
    "Y_test_pred = clf.predict(X)\n",
    "sklearn_score_train = clf.score(X,y)\n",
    "print(\"Sklearn's score on training data :\",sklearn_score_train)\n",
    "sklearn_score_test = clf.score(X,y)\n",
    "print(\"Sklearn's score on testing data :\",sklearn_score_test)\n",
    "print(\"Classification report for testing data :-\")\n",
    "print(classification_report(y, Y_test_pred))\n"
   ]
  },
  {
   "cell_type": "code",
   "execution_count": null,
   "id": "8f3f471d",
   "metadata": {
    "id": "8f3f471d"
   },
   "outputs": [],
   "source": []
  }
 ],
 "metadata": {
  "colab": {
   "name": "week9.ipynb",
   "provenance": []
  },
  "kernelspec": {
   "display_name": "Python 3 (ipykernel)",
   "language": "python",
   "name": "python3"
  },
  "language_info": {
   "codemirror_mode": {
    "name": "ipython",
    "version": 3
   },
   "file_extension": ".py",
   "mimetype": "text/x-python",
   "name": "python",
   "nbconvert_exporter": "python",
   "pygments_lexer": "ipython3",
   "version": "3.8.8"
  }
 },
 "nbformat": 4,
 "nbformat_minor": 5
}
